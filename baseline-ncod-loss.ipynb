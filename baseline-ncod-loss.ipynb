{
 "cells": [
  {
   "cell_type": "code",
   "execution_count": 1,
   "id": "71750658",
   "metadata": {
    "execution": {
     "iopub.execute_input": "2025-05-30T11:47:10.201303Z",
     "iopub.status.busy": "2025-05-30T11:47:10.200963Z",
     "iopub.status.idle": "2025-05-30T11:47:10.205423Z",
     "shell.execute_reply": "2025-05-30T11:47:10.204826Z"
    },
    "papermill": {
     "duration": 0.01238,
     "end_time": "2025-05-30T11:47:10.206715",
     "exception": false,
     "start_time": "2025-05-30T11:47:10.194335",
     "status": "completed"
    },
    "tags": []
   },
   "outputs": [],
   "source": [
    " # Resources\n",
    "# https://github.com/wanifarooq/NCOD/blob/main/README.md\n",
    "# https://github.com/wanifarooq/NCOD/blob/main/NCOD.py\n",
    "# https://github.com/wanifarooq/NCOD/blob/main/implementation/trainer/trainer.py\n",
    "# https://arxiv.org/abs/2303.09470"
   ]
  },
  {
   "cell_type": "code",
   "execution_count": 2,
   "id": "20a2892e",
   "metadata": {
    "execution": {
     "iopub.execute_input": "2025-05-30T11:47:10.217555Z",
     "iopub.status.busy": "2025-05-30T11:47:10.217341Z",
     "iopub.status.idle": "2025-05-30T11:47:15.741464Z",
     "shell.execute_reply": "2025-05-30T11:47:15.740372Z"
    },
    "id": "xSkgt1zf-raF",
    "outputId": "59f4a52f-5eb4-41e5-9fba-07432989fe78",
    "papermill": {
     "duration": 5.531274,
     "end_time": "2025-05-30T11:47:15.743220",
     "exception": false,
     "start_time": "2025-05-30T11:47:10.211946",
     "status": "completed"
    },
    "tags": []
   },
   "outputs": [
    {
     "name": "stdout",
     "output_type": "stream",
     "text": [
      "Collecting torch_geometric\r\n",
      "  Downloading torch_geometric-2.6.1-py3-none-any.whl.metadata (63 kB)\r\n",
      "\u001b[2K     \u001b[90m━━━━━━━━━━━━━━━━━━━━━━━━━━━━━━━━━━━━━━━━\u001b[0m \u001b[32m63.1/63.1 kB\u001b[0m \u001b[31m3.8 MB/s\u001b[0m eta \u001b[36m0:00:00\u001b[0m\r\n",
      "\u001b[?25hRequirement already satisfied: aiohttp in /usr/local/lib/python3.10/dist-packages (from torch_geometric) (3.11.12)\r\n",
      "Requirement already satisfied: fsspec in /usr/local/lib/python3.10/dist-packages (from torch_geometric) (2024.12.0)\r\n",
      "Requirement already satisfied: jinja2 in /usr/local/lib/python3.10/dist-packages (from torch_geometric) (3.1.4)\r\n",
      "Requirement already satisfied: numpy in /usr/local/lib/python3.10/dist-packages (from torch_geometric) (1.26.4)\r\n",
      "Requirement already satisfied: psutil>=5.8.0 in /usr/local/lib/python3.10/dist-packages (from torch_geometric) (5.9.5)\r\n",
      "Requirement already satisfied: pyparsing in /usr/local/lib/python3.10/dist-packages (from torch_geometric) (3.2.0)\r\n",
      "Requirement already satisfied: requests in /usr/local/lib/python3.10/dist-packages (from torch_geometric) (2.32.3)\r\n",
      "Requirement already satisfied: tqdm in /usr/local/lib/python3.10/dist-packages (from torch_geometric) (4.67.1)\r\n",
      "Requirement already satisfied: aiohappyeyeballs>=2.3.0 in /usr/local/lib/python3.10/dist-packages (from aiohttp->torch_geometric) (2.4.6)\r\n",
      "Requirement already satisfied: aiosignal>=1.1.2 in /usr/local/lib/python3.10/dist-packages (from aiohttp->torch_geometric) (1.3.2)\r\n",
      "Requirement already satisfied: async-timeout<6.0,>=4.0 in /usr/local/lib/python3.10/dist-packages (from aiohttp->torch_geometric) (5.0.1)\r\n",
      "Requirement already satisfied: attrs>=17.3.0 in /usr/local/lib/python3.10/dist-packages (from aiohttp->torch_geometric) (25.1.0)\r\n",
      "Requirement already satisfied: frozenlist>=1.1.1 in /usr/local/lib/python3.10/dist-packages (from aiohttp->torch_geometric) (1.5.0)\r\n",
      "Requirement already satisfied: multidict<7.0,>=4.5 in /usr/local/lib/python3.10/dist-packages (from aiohttp->torch_geometric) (6.1.0)\r\n",
      "Requirement already satisfied: propcache>=0.2.0 in /usr/local/lib/python3.10/dist-packages (from aiohttp->torch_geometric) (0.2.1)\r\n",
      "Requirement already satisfied: yarl<2.0,>=1.17.0 in /usr/local/lib/python3.10/dist-packages (from aiohttp->torch_geometric) (1.18.3)\r\n",
      "Requirement already satisfied: MarkupSafe>=2.0 in /usr/local/lib/python3.10/dist-packages (from jinja2->torch_geometric) (3.0.2)\r\n",
      "Requirement already satisfied: mkl_fft in /usr/local/lib/python3.10/dist-packages (from numpy->torch_geometric) (1.3.8)\r\n",
      "Requirement already satisfied: mkl_random in /usr/local/lib/python3.10/dist-packages (from numpy->torch_geometric) (1.2.4)\r\n",
      "Requirement already satisfied: mkl_umath in /usr/local/lib/python3.10/dist-packages (from numpy->torch_geometric) (0.1.1)\r\n",
      "Requirement already satisfied: mkl in /usr/local/lib/python3.10/dist-packages (from numpy->torch_geometric) (2025.0.1)\r\n",
      "Requirement already satisfied: tbb4py in /usr/local/lib/python3.10/dist-packages (from numpy->torch_geometric) (2022.0.0)\r\n",
      "Requirement already satisfied: mkl-service in /usr/local/lib/python3.10/dist-packages (from numpy->torch_geometric) (2.4.1)\r\n",
      "Requirement already satisfied: charset-normalizer<4,>=2 in /usr/local/lib/python3.10/dist-packages (from requests->torch_geometric) (3.4.1)\r\n",
      "Requirement already satisfied: idna<4,>=2.5 in /usr/local/lib/python3.10/dist-packages (from requests->torch_geometric) (3.10)\r\n",
      "Requirement already satisfied: urllib3<3,>=1.21.1 in /usr/local/lib/python3.10/dist-packages (from requests->torch_geometric) (2.3.0)\r\n",
      "Requirement already satisfied: certifi>=2017.4.17 in /usr/local/lib/python3.10/dist-packages (from requests->torch_geometric) (2025.1.31)\r\n",
      "Requirement already satisfied: typing-extensions>=4.1.0 in /usr/local/lib/python3.10/dist-packages (from multidict<7.0,>=4.5->aiohttp->torch_geometric) (4.12.2)\r\n",
      "Requirement already satisfied: intel-openmp>=2024 in /usr/local/lib/python3.10/dist-packages (from mkl->numpy->torch_geometric) (2024.2.0)\r\n",
      "Requirement already satisfied: tbb==2022.* in /usr/local/lib/python3.10/dist-packages (from mkl->numpy->torch_geometric) (2022.0.0)\r\n",
      "Requirement already satisfied: tcmlib==1.* in /usr/local/lib/python3.10/dist-packages (from tbb==2022.*->mkl->numpy->torch_geometric) (1.2.0)\r\n",
      "Requirement already satisfied: intel-cmplr-lib-rt in /usr/local/lib/python3.10/dist-packages (from mkl_umath->numpy->torch_geometric) (2024.2.0)\r\n",
      "Requirement already satisfied: intel-cmplr-lib-ur==2024.2.0 in /usr/local/lib/python3.10/dist-packages (from intel-openmp>=2024->mkl->numpy->torch_geometric) (2024.2.0)\r\n",
      "Downloading torch_geometric-2.6.1-py3-none-any.whl (1.1 MB)\r\n",
      "\u001b[2K   \u001b[90m━━━━━━━━━━━━━━━━━━━━━━━━━━━━━━━━━━━━━━━━\u001b[0m \u001b[32m1.1/1.1 MB\u001b[0m \u001b[31m35.2 MB/s\u001b[0m eta \u001b[36m0:00:00\u001b[0m\r\n",
      "\u001b[?25hInstalling collected packages: torch_geometric\r\n",
      "Successfully installed torch_geometric-2.6.1\r\n"
     ]
    }
   ],
   "source": [
    "!pip install torch_geometric"
   ]
  },
  {
   "cell_type": "code",
   "execution_count": 3,
   "id": "03b5a0c1",
   "metadata": {
    "execution": {
     "iopub.execute_input": "2025-05-30T11:47:15.755438Z",
     "iopub.status.busy": "2025-05-30T11:47:15.755162Z",
     "iopub.status.idle": "2025-05-30T11:47:24.351866Z",
     "shell.execute_reply": "2025-05-30T11:47:24.350910Z"
    },
    "id": "5oR2D2Us-xSQ",
    "outputId": "7086cadf-a7fe-4d75-f271-6339bee8164d",
    "papermill": {
     "duration": 8.60452,
     "end_time": "2025-05-30T11:47:24.353511",
     "exception": false,
     "start_time": "2025-05-30T11:47:15.748991",
     "status": "completed"
    },
    "tags": []
   },
   "outputs": [
    {
     "name": "stdout",
     "output_type": "stream",
     "text": [
      "Cloning into 'purple-hippo-project'...\r\n",
      "remote: Enumerating objects: 178, done.\u001b[K\r\n",
      "remote: Total 178 (delta 0), reused 0 (delta 0), pack-reused 178 (from 1)\u001b[K\r\n",
      "Receiving objects: 100% (178/178), 253.39 MiB | 40.54 MiB/s, done.\r\n",
      "Resolving deltas: 100% (54/54), done.\r\n"
     ]
    }
   ],
   "source": [
    "# !git clone --branch baselineCe https://github.com/Graph-Classification-Noisy-Label/hackaton.git\n",
    "!git clone --branch baseline https://github.com/technahuynh/purple-hippo-project.git"
   ]
  },
  {
   "cell_type": "code",
   "execution_count": 4,
   "id": "86d2d7a9",
   "metadata": {
    "execution": {
     "iopub.execute_input": "2025-05-30T11:47:24.368650Z",
     "iopub.status.busy": "2025-05-30T11:47:24.368368Z",
     "iopub.status.idle": "2025-05-30T11:47:24.491189Z",
     "shell.execute_reply": "2025-05-30T11:47:24.490280Z"
    },
    "id": "tEhfPly6-7UK",
    "outputId": "3078ee06-6312-4fca-f5f9-888fa628c80a",
    "papermill": {
     "duration": 0.131857,
     "end_time": "2025-05-30T11:47:24.492745",
     "exception": false,
     "start_time": "2025-05-30T11:47:24.360888",
     "status": "completed"
    },
    "tags": []
   },
   "outputs": [
    {
     "name": "stdout",
     "output_type": "stream",
     "text": [
      "/kaggle/working/purple-hippo-project\n",
      "checkpoints  logs  main.py  README.md  requirements.txt  src  submission\r\n"
     ]
    }
   ],
   "source": [
    "%cd /kaggle/working/purple-hippo-project\n",
    "# %cd /kaggle/working/hackaton\n",
    "# !rm -r /submission/*\n",
    "!ls"
   ]
  },
  {
   "cell_type": "code",
   "execution_count": 5,
   "id": "dc154a0e",
   "metadata": {
    "execution": {
     "iopub.execute_input": "2025-05-30T11:47:24.508620Z",
     "iopub.status.busy": "2025-05-30T11:47:24.508238Z",
     "iopub.status.idle": "2025-05-30T11:48:14.835484Z",
     "shell.execute_reply": "2025-05-30T11:48:14.834441Z"
    },
    "id": "PxBvwB0_6xI8",
    "outputId": "5933387c-2cfb-474f-d842-f36a3e2d2a73",
    "papermill": {
     "duration": 50.336686,
     "end_time": "2025-05-30T11:48:14.837036",
     "exception": false,
     "start_time": "2025-05-30T11:47:24.500350",
     "status": "completed"
    },
    "tags": []
   },
   "outputs": [
    {
     "name": "stdout",
     "output_type": "stream",
     "text": [
      "Retrieving folder contents\r\n",
      "Retrieving folder 17o2SXJ5CIHZJ7760bOv5aiT5KQuyUseh A\r\n",
      "Processing file 1_dueXK_W0HuMFCKlC8U_mdDR96_5WpTZ test.json.gz\r\n",
      "Processing file 10FvydaYod4NwemgB2xfYqA6ewdlXcfPp train.json.gz\r\n",
      "Retrieving folder 1RS4gD4tlZC4GmkRRCLXsmEKn14uANjn2 B\r\n",
      "Processing file 1ehkTEvDVo5yti0yuXWNosSZRajouScMo test.json.gz\r\n",
      "Processing file 1TzwivNX5NdMH5QFBB3SJ-k0iJukXC7O_ train.json.gz\r\n",
      "Retrieving folder 1IKovc5_Jr3dThMtIwqG68vL9WHj2Bs3U C\r\n",
      "Processing file 1Yfix4FoeHqJd3DpoYHk5do36Gfm7-IuH test.json.gz\r\n",
      "Processing file 1gXg3jRTkAye1A18dh4ju7nMaxMOfZbns train.json.gz\r\n",
      "Retrieving folder 13AXnY9nQLGpnXMaGJ3Jyfy0WRqkRiVZ8 D\r\n",
      "Processing file 1B4YMJQAHoU4rgWtywVQZWAntCepEWX25 test.json.gz\r\n",
      "Processing file 1ce7J2NJc-80_LBmzDAEtGM0K9G-vLvAC train.json.gz\r\n",
      "Retrieving folder contents completed\r\n",
      "Building directory structure\r\n",
      "Building directory structure completed\r\n",
      "Downloading...\r\n",
      "From (original): https://drive.google.com/uc?id=1_dueXK_W0HuMFCKlC8U_mdDR96_5WpTZ\r\n",
      "From (redirected): https://drive.google.com/uc?id=1_dueXK_W0HuMFCKlC8U_mdDR96_5WpTZ&confirm=t&uuid=fb4ecf24-a16f-4624-94d1-3a2f849ec401\r\n",
      "To: /kaggle/working/purple-hippo-project/datasets/A/test.json.gz\r\n",
      "100%|██████████████████████████████████████| 92.4M/92.4M [00:01<00:00, 69.5MB/s]\r\n",
      "Downloading...\r\n",
      "From (original): https://drive.google.com/uc?id=10FvydaYod4NwemgB2xfYqA6ewdlXcfPp\r\n",
      "From (redirected): https://drive.google.com/uc?id=10FvydaYod4NwemgB2xfYqA6ewdlXcfPp&confirm=t&uuid=2de9ada5-3669-4ce2-94c5-dd5e8863fe8d\r\n",
      "To: /kaggle/working/purple-hippo-project/datasets/A/train.json.gz\r\n",
      "100%|█████████████████████████████████████████| 465M/465M [00:03<00:00, 131MB/s]\r\n",
      "Downloading...\r\n",
      "From (original): https://drive.google.com/uc?id=1ehkTEvDVo5yti0yuXWNosSZRajouScMo\r\n",
      "From (redirected): https://drive.google.com/uc?id=1ehkTEvDVo5yti0yuXWNosSZRajouScMo&confirm=t&uuid=107537c9-6cea-49fc-8ed4-6070cee0848a\r\n",
      "To: /kaggle/working/purple-hippo-project/datasets/B/test.json.gz\r\n",
      "100%|██████████████████████████████████████| 63.0M/63.0M [00:00<00:00, 86.7MB/s]\r\n",
      "Downloading...\r\n",
      "From (original): https://drive.google.com/uc?id=1TzwivNX5NdMH5QFBB3SJ-k0iJukXC7O_\r\n",
      "From (redirected): https://drive.google.com/uc?id=1TzwivNX5NdMH5QFBB3SJ-k0iJukXC7O_&confirm=t&uuid=76043091-bc36-4796-8622-01b26cde8ec4\r\n",
      "To: /kaggle/working/purple-hippo-project/datasets/B/train.json.gz\r\n",
      "100%|█████████████████████████████████████████| 223M/223M [00:02<00:00, 104MB/s]\r\n",
      "Downloading...\r\n",
      "From (original): https://drive.google.com/uc?id=1Yfix4FoeHqJd3DpoYHk5do36Gfm7-IuH\r\n",
      "From (redirected): https://drive.google.com/uc?id=1Yfix4FoeHqJd3DpoYHk5do36Gfm7-IuH&confirm=t&uuid=1a3e83eb-6d64-4afe-994b-bff8f5204ded\r\n",
      "To: /kaggle/working/purple-hippo-project/datasets/C/test.json.gz\r\n",
      "100%|██████████████████████████████████████| 60.5M/60.5M [00:00<00:00, 62.4MB/s]\r\n",
      "Downloading...\r\n",
      "From (original): https://drive.google.com/uc?id=1gXg3jRTkAye1A18dh4ju7nMaxMOfZbns\r\n",
      "From (redirected): https://drive.google.com/uc?id=1gXg3jRTkAye1A18dh4ju7nMaxMOfZbns&confirm=t&uuid=c5568c93-48b0-4f57-bd38-18bfac53186a\r\n",
      "To: /kaggle/working/purple-hippo-project/datasets/C/train.json.gz\r\n",
      "100%|████████████████████████████████████████| 308M/308M [00:04<00:00, 74.1MB/s]\r\n",
      "Downloading...\r\n",
      "From (original): https://drive.google.com/uc?id=1B4YMJQAHoU4rgWtywVQZWAntCepEWX25\r\n",
      "From (redirected): https://drive.google.com/uc?id=1B4YMJQAHoU4rgWtywVQZWAntCepEWX25&confirm=t&uuid=9e94489b-20b9-473b-adfc-1da947aa2f3c\r\n",
      "To: /kaggle/working/purple-hippo-project/datasets/D/test.json.gz\r\n",
      "100%|███████████████████████████████████████| 94.0M/94.0M [00:00<00:00, 102MB/s]\r\n",
      "Downloading...\r\n",
      "From (original): https://drive.google.com/uc?id=1ce7J2NJc-80_LBmzDAEtGM0K9G-vLvAC\r\n",
      "From (redirected): https://drive.google.com/uc?id=1ce7J2NJc-80_LBmzDAEtGM0K9G-vLvAC&confirm=t&uuid=50e718a4-51af-4105-b1d6-ff00f70fd0d6\r\n",
      "To: /kaggle/working/purple-hippo-project/datasets/D/train.json.gz\r\n",
      "100%|█████████████████████████████████████████| 439M/439M [00:03<00:00, 126MB/s]\r\n",
      "Download completed\r\n"
     ]
    }
   ],
   "source": [
    "!gdown --folder https://drive.google.com/drive/folders/1XHCHtrB3hDeqDfY6tDmfB9WVEOp8QIUd -O datasets"
   ]
  },
  {
   "cell_type": "code",
   "execution_count": 6,
   "id": "af5a1412",
   "metadata": {
    "execution": {
     "iopub.execute_input": "2025-05-30T11:48:14.862764Z",
     "iopub.status.busy": "2025-05-30T11:48:14.862514Z",
     "iopub.status.idle": "2025-05-30T11:48:14.980453Z",
     "shell.execute_reply": "2025-05-30T11:48:14.979445Z"
    },
    "id": "1rockhiQ7Nny",
    "outputId": "2cd2e6f4-5f8f-4a62-f0ec-53e6fc78c9b7",
    "papermill": {
     "duration": 0.132237,
     "end_time": "2025-05-30T11:48:14.981949",
     "exception": false,
     "start_time": "2025-05-30T11:48:14.849712",
     "status": "completed"
    },
    "tags": []
   },
   "outputs": [
    {
     "name": "stdout",
     "output_type": "stream",
     "text": [
      "total 16K\r\n",
      "drwxr-xr-x 2 root root 4.0K May 30 11:47 A\r\n",
      "drwxr-xr-x 2 root root 4.0K May 30 11:47 B\r\n",
      "drwxr-xr-x 2 root root 4.0K May 30 11:48 C\r\n",
      "drwxr-xr-x 2 root root 4.0K May 30 11:48 D\r\n"
     ]
    }
   ],
   "source": [
    "!ls -lh datasets"
   ]
  },
  {
   "cell_type": "code",
   "execution_count": 7,
   "id": "fd23899c",
   "metadata": {
    "execution": {
     "iopub.execute_input": "2025-05-30T11:48:15.007633Z",
     "iopub.status.busy": "2025-05-30T11:48:15.007353Z",
     "iopub.status.idle": "2025-05-30T11:48:25.370375Z",
     "shell.execute_reply": "2025-05-30T11:48:25.369415Z"
    },
    "id": "lAQuCuIoBbq5",
    "papermill": {
     "duration": 10.377706,
     "end_time": "2025-05-30T11:48:25.371926",
     "exception": false,
     "start_time": "2025-05-30T11:48:14.994220",
     "status": "completed"
    },
    "tags": []
   },
   "outputs": [],
   "source": [
    "import os\n",
    "import torch\n",
    "import pandas as pd\n",
    "import matplotlib.pyplot as plt\n",
    "import logging\n",
    "from tqdm import tqdm\n",
    "from torch_geometric.loader import DataLoader\n",
    "from torch.utils.data import random_split\n",
    "# Load utility functions from cloned repository\n",
    "from src.loadData import GraphDataset\n",
    "from src.utils import set_seed\n",
    "from src.models import GNN\n",
    "import argparse\n",
    "# NCOD loss\n",
    "import torch.nn.functional as F\n",
    "import torch.nn as nn\n",
    "import math\n",
    "import numpy as np\n",
    "\n",
    "# Set the random seed\n",
    "set_seed()\n"
   ]
  },
  {
   "cell_type": "code",
   "execution_count": 8,
   "id": "f6a8ffa9",
   "metadata": {
    "execution": {
     "iopub.execute_input": "2025-05-30T11:48:25.397734Z",
     "iopub.status.busy": "2025-05-30T11:48:25.397303Z",
     "iopub.status.idle": "2025-05-30T11:48:25.401034Z",
     "shell.execute_reply": "2025-05-30T11:48:25.400228Z"
    },
    "id": "Dyf0I2-t9IcW",
    "papermill": {
     "duration": 0.017467,
     "end_time": "2025-05-30T11:48:25.402282",
     "exception": false,
     "start_time": "2025-05-30T11:48:25.384815",
     "status": "completed"
    },
    "tags": []
   },
   "outputs": [],
   "source": [
    "def add_zeros(data):\n",
    "    data.x = torch.zeros(data.num_nodes, dtype=torch.long)\n",
    "    return data"
   ]
  },
  {
   "cell_type": "code",
   "execution_count": 9,
   "id": "a80fa221",
   "metadata": {
    "execution": {
     "iopub.execute_input": "2025-05-30T11:48:25.434597Z",
     "iopub.status.busy": "2025-05-30T11:48:25.434353Z",
     "iopub.status.idle": "2025-05-30T11:48:25.439985Z",
     "shell.execute_reply": "2025-05-30T11:48:25.439047Z"
    },
    "id": "3jKvoQYI9Zbc",
    "papermill": {
     "duration": 0.027215,
     "end_time": "2025-05-30T11:48:25.441279",
     "exception": false,
     "start_time": "2025-05-30T11:48:25.414064",
     "status": "completed"
    },
    "tags": []
   },
   "outputs": [],
   "source": [
    "def train(data_loader, model, optimizer, criterion, device, save_checkpoints, checkpoint_path, current_epoch):\n",
    "    model.train()\n",
    "    total_loss = 0\n",
    "    correct = 0\n",
    "    total = 0\n",
    "    for data in tqdm(data_loader, desc=\"Iterating training graphs\", unit=\"batch\"):\n",
    "        data = data.to(device)\n",
    "        optimizer.zero_grad()\n",
    "        output,_ = model(data)\n",
    "        loss = criterion(output, data.y)\n",
    "        loss.backward()\n",
    "        optimizer.step()\n",
    "        total_loss += loss.item()\n",
    "        pred = output.argmax(dim=1)\n",
    "        correct += (pred == data.y).sum().item()\n",
    "        total += data.y.size(0)\n",
    "\n",
    "    # Save checkpoints if required\n",
    "    if save_checkpoints:\n",
    "        checkpoint_file = f\"{checkpoint_path}_epoch_{current_epoch + 1}_ncod.pth\"\n",
    "        torch.save(model.state_dict(), checkpoint_file)\n",
    "        print(f\"Checkpoint saved at {checkpoint_file}\")\n",
    "\n",
    "    return total_loss / len(data_loader),  correct / total"
   ]
  },
  {
   "cell_type": "code",
   "execution_count": 10,
   "id": "2f187dee",
   "metadata": {
    "execution": {
     "iopub.execute_input": "2025-05-30T11:48:25.479583Z",
     "iopub.status.busy": "2025-05-30T11:48:25.479159Z",
     "iopub.status.idle": "2025-05-30T11:48:25.484832Z",
     "shell.execute_reply": "2025-05-30T11:48:25.484092Z"
    },
    "id": "8peFiIS19ZpK",
    "papermill": {
     "duration": 0.026935,
     "end_time": "2025-05-30T11:48:25.486147",
     "exception": false,
     "start_time": "2025-05-30T11:48:25.459212",
     "status": "completed"
    },
    "tags": []
   },
   "outputs": [],
   "source": [
    "def evaluate(data_loader, model, device, calculate_accuracy=False):\n",
    "    model.eval()\n",
    "    correct = 0\n",
    "    total = 0\n",
    "    predictions = []\n",
    "    total_loss = 0\n",
    "    criterion = torch.nn.CrossEntropyLoss()\n",
    "    with torch.no_grad():\n",
    "        for data in tqdm(data_loader, desc=\"Iterating eval graphs\", unit=\"batch\"):\n",
    "            data = data.to(device)\n",
    "            output,_ = model(data)\n",
    "            pred = output.argmax(dim=1)\n",
    "            \n",
    "            if calculate_accuracy:\n",
    "                correct += (pred == data.y).sum().item()\n",
    "                total += data.y.size(0)\n",
    "                total_loss += criterion(output, data.y).item()\n",
    "            else:\n",
    "                predictions.extend(pred.cpu().numpy())\n",
    "    if calculate_accuracy:\n",
    "        accuracy = correct / total\n",
    "        return  total_loss / len(data_loader),accuracy\n",
    "    return predictions"
   ]
  },
  {
   "cell_type": "code",
   "execution_count": 11,
   "id": "eb969c4b",
   "metadata": {
    "execution": {
     "iopub.execute_input": "2025-05-30T11:48:25.511650Z",
     "iopub.status.busy": "2025-05-30T11:48:25.511433Z",
     "iopub.status.idle": "2025-05-30T11:48:25.515400Z",
     "shell.execute_reply": "2025-05-30T11:48:25.514823Z"
    },
    "id": "WanuZKxy9Zs-",
    "papermill": {
     "duration": 0.017419,
     "end_time": "2025-05-30T11:48:25.516593",
     "exception": false,
     "start_time": "2025-05-30T11:48:25.499174",
     "status": "completed"
    },
    "tags": []
   },
   "outputs": [],
   "source": [
    "def save_predictions(predictions, test_path):\n",
    "    script_dir = os.getcwd() \n",
    "    submission_folder = os.path.join(script_dir, \"submission\")\n",
    "    test_dir_name = os.path.basename(os.path.dirname(test_path))\n",
    "    \n",
    "    os.makedirs(submission_folder, exist_ok=True)\n",
    "    \n",
    "    output_csv_path = os.path.join(submission_folder, f\"testset_{test_dir_name}.csv\")\n",
    "    \n",
    "    test_graph_ids = list(range(len(predictions)))\n",
    "    output_df = pd.DataFrame({\n",
    "        \"id\": test_graph_ids,\n",
    "        \"pred\": predictions\n",
    "    })\n",
    "    \n",
    "    output_df.to_csv(output_csv_path, index=False)\n",
    "    print(f\"Predictions saved to {output_csv_path}\")"
   ]
  },
  {
   "cell_type": "code",
   "execution_count": 12,
   "id": "fcec608e",
   "metadata": {
    "execution": {
     "iopub.execute_input": "2025-05-30T11:48:25.542160Z",
     "iopub.status.busy": "2025-05-30T11:48:25.541945Z",
     "iopub.status.idle": "2025-05-30T11:48:25.546635Z",
     "shell.execute_reply": "2025-05-30T11:48:25.546012Z"
    },
    "id": "uyHIJS5U9ZzB",
    "papermill": {
     "duration": 0.019022,
     "end_time": "2025-05-30T11:48:25.547714",
     "exception": false,
     "start_time": "2025-05-30T11:48:25.528692",
     "status": "completed"
    },
    "tags": []
   },
   "outputs": [],
   "source": [
    "def plot_training_progress(train_losses, train_accuracies, output_dir):\n",
    "    epochs = range(1, len(train_losses) + 1)\n",
    "    plt.figure(figsize=(12, 6))\n",
    "\n",
    "    # Plot loss\n",
    "    plt.subplot(1, 2, 1)\n",
    "    plt.plot(epochs, train_losses, label=\"Training Loss\", color='blue')\n",
    "    plt.xlabel('Epoch')\n",
    "    plt.ylabel('Loss')\n",
    "    plt.title('Training Loss per Epoch')\n",
    "\n",
    "    # Plot accuracy\n",
    "    plt.subplot(1, 2, 2)\n",
    "    plt.plot(epochs, train_accuracies, label=\"Training Accuracy\", color='green')\n",
    "    plt.xlabel('Epoch')\n",
    "    plt.ylabel('Accuracy')\n",
    "    plt.title('Training Accuracy per Epoch')\n",
    "\n",
    "    # Save plots in the current directory\n",
    "    os.makedirs(output_dir, exist_ok=True)\n",
    "    plt.tight_layout()\n",
    "    plt.savefig(os.path.join(output_dir, \"training_progress.png\"))\n",
    "    plt.close()"
   ]
  },
  {
   "cell_type": "code",
   "execution_count": 13,
   "id": "c364bafd",
   "metadata": {
    "execution": {
     "iopub.execute_input": "2025-05-30T11:48:25.574304Z",
     "iopub.status.busy": "2025-05-30T11:48:25.574051Z",
     "iopub.status.idle": "2025-05-30T11:48:25.578801Z",
     "shell.execute_reply": "2025-05-30T11:48:25.578200Z"
    },
    "papermill": {
     "duration": 0.019283,
     "end_time": "2025-05-30T11:48:25.579931",
     "exception": false,
     "start_time": "2025-05-30T11:48:25.560648",
     "status": "completed"
    },
    "tags": []
   },
   "outputs": [],
   "source": [
    "# Basic setup for early stopping criteria\n",
    "patience = 50  # epochs to wait after no improvement\n",
    "delta = 0.01  # minimum change in the monitored metric\n",
    "best_val_loss = float(\"inf\")  # best validation loss to compare against\n",
    "no_improvement_count = 0  # count of epochs with no improvement\n",
    "\n",
    "class EarlyStopping:\n",
    "    def __init__(self, patience=5, delta=0, verbose=False):\n",
    "        self.patience = patience\n",
    "        self.delta = delta\n",
    "        self.verbose = verbose\n",
    "        self.best_loss = None\n",
    "        self.no_improvement_count = 0\n",
    "        self.stop_training = False\n",
    "    \n",
    "    def check_early_stop(self, val_loss):\n",
    "        if self.best_loss is None or val_loss < self.best_loss - self.delta:\n",
    "            self.best_loss = val_loss\n",
    "            self.no_improvement_count = 0\n",
    "        else:\n",
    "            self.no_improvement_count += 1\n",
    "            if self.no_improvement_count >= self.patience:\n",
    "                self.stop_training = True\n",
    "                if self.verbose:\n",
    "                    print(\"Stopping early as no improvement has been observed.\")\n",
    "# Initialize early stopping\n",
    "early_stopping = EarlyStopping(patience=patience, delta=delta, verbose=True)"
   ]
  },
  {
   "cell_type": "code",
   "execution_count": 14,
   "id": "f818b0c4",
   "metadata": {
    "execution": {
     "iopub.execute_input": "2025-05-30T11:48:25.604378Z",
     "iopub.status.busy": "2025-05-30T11:48:25.604132Z",
     "iopub.status.idle": "2025-05-30T11:48:25.609947Z",
     "shell.execute_reply": "2025-05-30T11:48:25.609359Z"
    },
    "papermill": {
     "duration": 0.019413,
     "end_time": "2025-05-30T11:48:25.611135",
     "exception": false,
     "start_time": "2025-05-30T11:48:25.591722",
     "status": "completed"
    },
    "tags": []
   },
   "outputs": [],
   "source": [
    "def get_user_input(prompt, default=None, required=False, type_cast=str):\n",
    "    while True:\n",
    "        user_input = input(f\"{prompt} [{default}]: \")\n",
    "        if user_input == \"\" and required:\n",
    "            print(\"This field is required. Please enter a value.\")\n",
    "            continue\n",
    "        if user_input == \"\" and default is not None:\n",
    "            return default\n",
    "        if user_input == \"\" and not required:\n",
    "            return None\n",
    "        try:\n",
    "            return type_cast(user_input)\n",
    "        except ValueError:\n",
    "            print(f\"Invalid input. Please enter a valid {type_cast.__name__}.\")\n",
    "\n",
    "def get_arguments():\n",
    "    args = {}\n",
    "    args['train_path'] = '/kaggle/working/purple-hippo-project/datasets/D/train.json.gz'\n",
    "    args['test_path'] = '/kaggle/working/purple-hippo-project/datasets/D/test.json.gz'\n",
    "    # args['train_path'] = '/kaggle/working/hackaton/datasets/A/train.json.gz'\n",
    "    # args['test_path'] = '/kaggle/working/hackaton/datasets/A/test.json.gz'\n",
    "    args['num_checkpoints'] = int(5)\n",
    "    args['device'] = int(1)\n",
    "    args['gnn'] = 'gin-virtual'\n",
    "    args['drop_ratio'] = float(0.1)\n",
    "    args['num_layer'] = int(5)\n",
    "    args['emb_dim'] = int(300)\n",
    "    args['batch_size'] = int(32)\n",
    "    args['epochs'] = int(200)\n",
    "    args['baseline_mode'] = int(3)\n",
    "    args['noise_prob'] = float(0.2)\n",
    "    \n",
    "    return argparse.Namespace(**args)\n",
    "def populate_args(args):\n",
    "    print(\"Arguments received:\")\n",
    "    for key, value in vars(args).items():\n",
    "        print(f\"{key}: {value}\")\n"
   ]
  },
  {
   "cell_type": "code",
   "execution_count": 15,
   "id": "4e2592bb",
   "metadata": {
    "execution": {
     "iopub.execute_input": "2025-05-30T11:48:25.636391Z",
     "iopub.status.busy": "2025-05-30T11:48:25.636154Z",
     "iopub.status.idle": "2025-05-30T11:48:25.642611Z",
     "shell.execute_reply": "2025-05-30T11:48:25.641790Z"
    },
    "papermill": {
     "duration": 0.020879,
     "end_time": "2025-05-30T11:48:25.643923",
     "exception": false,
     "start_time": "2025-05-30T11:48:25.623044",
     "status": "completed"
    },
    "tags": []
   },
   "outputs": [
    {
     "name": "stdout",
     "output_type": "stream",
     "text": [
      "Arguments received:\n",
      "train_path: /kaggle/working/purple-hippo-project/datasets/D/train.json.gz\n",
      "test_path: /kaggle/working/purple-hippo-project/datasets/D/test.json.gz\n",
      "num_checkpoints: 5\n",
      "device: 1\n",
      "gnn: gin-virtual\n",
      "drop_ratio: 0.1\n",
      "num_layer: 5\n",
      "emb_dim: 300\n",
      "batch_size: 32\n",
      "epochs: 200\n",
      "baseline_mode: 3\n",
      "noise_prob: 0.2\n"
     ]
    }
   ],
   "source": [
    "def populate_args(args):\n",
    "    print(\"Arguments received:\")\n",
    "    for key, value in vars(args).items():\n",
    "        print(f\"{key}: {value}\")\n",
    "args = get_arguments()\n",
    "populate_args(args)"
   ]
  },
  {
   "cell_type": "code",
   "execution_count": 16,
   "id": "9be8f5dc",
   "metadata": {
    "execution": {
     "iopub.execute_input": "2025-05-30T11:48:25.668791Z",
     "iopub.status.busy": "2025-05-30T11:48:25.668469Z",
     "iopub.status.idle": "2025-05-30T11:48:25.673313Z",
     "shell.execute_reply": "2025-05-30T11:48:25.672512Z"
    },
    "papermill": {
     "duration": 0.018703,
     "end_time": "2025-05-30T11:48:25.674705",
     "exception": false,
     "start_time": "2025-05-30T11:48:25.656002",
     "status": "completed"
    },
    "tags": []
   },
   "outputs": [],
   "source": [
    "class NoisyCrossEntropyLoss(torch.nn.Module):\n",
    "    def __init__(self, p_noisy):\n",
    "        super().__init__()\n",
    "        self.p = p_noisy\n",
    "        self.ce = torch.nn.CrossEntropyLoss(reduction='none')\n",
    "\n",
    "    def forward(self, logits, targets):\n",
    "        losses = self.ce(logits, targets)\n",
    "        weights = (1 - self.p) + self.p * (1 - torch.nn.functional.one_hot(targets, num_classes=logits.size(1)).float().sum(dim=1))\n",
    "        return (losses * weights).mean()"
   ]
  },
  {
   "cell_type": "code",
   "execution_count": 17,
   "id": "f7aabc79",
   "metadata": {
    "execution": {
     "iopub.execute_input": "2025-05-30T11:48:25.698924Z",
     "iopub.status.busy": "2025-05-30T11:48:25.698708Z",
     "iopub.status.idle": "2025-05-30T11:48:25.716807Z",
     "shell.execute_reply": "2025-05-30T11:48:25.716131Z"
    },
    "papermill": {
     "duration": 0.031666,
     "end_time": "2025-05-30T11:48:25.718122",
     "exception": false,
     "start_time": "2025-05-30T11:48:25.686456",
     "status": "completed"
    },
    "tags": []
   },
   "outputs": [],
   "source": [
    "cross_entropy_val = nn.CrossEntropyLoss\n",
    "mean = 1e-8\n",
    "std  = 1e-9\n",
    "\n",
    "class ncodLoss(nn.Module):\n",
    "    def __init__(self, labels, n, C, ratio_consistency=0, ratio_balance=0):\n",
    "        super(ncodLoss, self).__init__()\n",
    "\n",
    "        self.C = C\n",
    "        self.USE_CUDA = torch.cuda.is_available()\n",
    "        self.n = n\n",
    "        self.ratio_consistency = ratio_consistency\n",
    "        self.ratio_balance = ratio_balance\n",
    "        self.u = nn.Parameter(torch.empty(n, 1, dtype=torch.float32))\n",
    "        self.init_param(mean=mean,std=std)\n",
    "        self.beginning = True\n",
    "        self.prev_phi_x_i = torch.rand((n, encoder_features))\n",
    "        self.phi_c = torch.rand((C, encoder_features))\n",
    "        # self.labels = labels\n",
    "        self.labels = labels.cpu().numpy() if isinstance(labels, torch.Tensor) else labels\n",
    "        self.bins = []\n",
    "\n",
    "        # for i in range(0, C):\n",
    "        #     self.bins.append(np.where(self.labels == i)[0])\n",
    "        # Create bins for each class\n",
    "        self.bins = []\n",
    "        for i in range(C):\n",
    "            self.bins.append(np.where(self.labels == i)[0])\n",
    "        # Initialize h_c_bar_T\n",
    "        self.h_c_bar_T = None\n",
    "\n",
    "    def init_param(self, mean= 1e-8, std= 1e-9):\n",
    "        torch.nn.init.normal_(self.u, mean=mean, std=std)\n",
    "        \n",
    "    def forward(self, index, f_x_i, y, phi_x_i, flag, epoch):\n",
    "        # Move tensors to same device\n",
    "        device = f_x_i.device\n",
    "        if self.prev_phi_x_i.device != device:\n",
    "            self.prev_phi_x_i = self.prev_phi_x_i.to(device)\n",
    "        if self.phi_c.device != device:\n",
    "            self.phi_c = self.phi_c.to(device)\n",
    "            \n",
    "        if len(f_x_i) > len(index):\n",
    "            f_x_i_1, f_x_i_2 = torch.chunk(f_x_i, 2)\n",
    "            phi_x_i_1, phi_x_i_2 = torch.chunk(phi_x_i, 2)\n",
    "        else:\n",
    "            f_x_i_1 = f_x_i\n",
    "            phi_x_i_1 = phi_x_i\n",
    "            f_x_i_2 = None\n",
    "            phi_x_i_2 = None\n",
    "            \n",
    "        f_x_i_1 = f_x_i\n",
    "        phi_x_i_1 = phi_x_i\n",
    "        # TODO\n",
    "        eps = 1e-4\n",
    "        # Get corresponding u values\n",
    "        u = self.u[index]\n",
    "        \n",
    "        # Update class prototypes at the beginning of each epoch\n",
    "        if flag == 0:  # Beginning of epoch\n",
    "            if self.beginning or epoch == 0:\n",
    "                percent = max(1, math.ceil((50 - (50 / total_epochs) * epoch) + 50))\n",
    "                \n",
    "                for i in range(len(self.bins)):\n",
    "                    if len(self.bins[i]) > 0:  # Check if class has samples\n",
    "                        class_u = self.u.detach()[self.bins[i]]\n",
    "                        bottomK = max(1, int((len(class_u) / 100) * percent))\n",
    "                        \n",
    "                        if len(class_u) >= bottomK:\n",
    "                            important_indexs = torch.topk(class_u.squeeze(), bottomK, largest=False, dim=0)[1]\n",
    "                            selected_features = self.prev_phi_x_i[self.bins[i]][important_indexs]\n",
    "                            self.phi_c[i] = torch.mean(selected_features, dim=0)\n",
    "                \n",
    "                # Normalize class prototypes\n",
    "                phi_c_norm = self.phi_c.norm(p=2, dim=1, keepdim=True)\n",
    "                phi_c_norm = torch.clamp(phi_c_norm, min=eps)  # Avoid division by zero\n",
    "                h_c_bar = self.phi_c.div(phi_c_norm)\n",
    "                self.h_c_bar_T = torch.transpose(h_c_bar, 0, 1)\n",
    "                \n",
    "            self.beginning = False\n",
    "        \n",
    "        # Update previous features\n",
    "        self.prev_phi_x_i[index] = phi_x_i_1.detach()\n",
    "        \n",
    "        # Compute softmax predictions\n",
    "        f_x_softmax = F.softmax(f_x_i_1, dim=1)\n",
    "        \n",
    "        # Compute normalized features\n",
    "        phi_x_i_1_norm = phi_x_i_1.detach().norm(p=2, dim=1, keepdim=True)\n",
    "        phi_x_i_1_norm = torch.clamp(phi_x_i_1_norm, min=eps)\n",
    "        h_i = phi_x_i_1.detach().div(phi_x_i_1_norm)\n",
    "        \n",
    "        # Compute similarity with class prototypes\n",
    "        if self.h_c_bar_T is not None:\n",
    "            y_bar = torch.mm(h_i, self.h_c_bar_T)\n",
    "            y_bar = y_bar * y.float()\n",
    "            y_bar_max = (y_bar > 0.0).float()\n",
    "            y_bar = y_bar * y_bar_max\n",
    "        else:\n",
    "            y_bar = y.float()\n",
    "        \n",
    "        # Apply learnable noise\n",
    "        u_expanded = u * y.float()\n",
    "        f_x_softmax = torch.clamp((f_x_softmax + u_expanded.detach()), min=eps, max=1.0)\n",
    "        \n",
    "        # Compute main loss\n",
    "        L1 = torch.mean(-torch.sum(y_bar * torch.log(f_x_softmax), dim=1))\n",
    "        \n",
    "        # Compute consistency loss for u\n",
    "        y_hat = self.soft_to_hard(f_x_i_1.detach())\n",
    "        L2 = F.mse_loss((y_hat + u_expanded), y.float(), reduction='mean')\n",
    "        L1 += L2\n",
    "        \n",
    "        # Balance loss\n",
    "        if self.ratio_balance > 0:\n",
    "            avg_prediction = torch.mean(f_x_softmax, dim=0)\n",
    "            prior_distr = (1.0 / self.C) * torch.ones_like(avg_prediction)\n",
    "            avg_prediction = torch.clamp(avg_prediction, min=eps, max=1.0)\n",
    "            balance_kl = torch.mean(-(prior_distr * torch.log(avg_prediction)).sum())\n",
    "            L1 += self.ratio_balance * balance_kl\n",
    "        \n",
    "        # Consistency loss for augmented data\n",
    "        if f_x_i_2 is not None and self.ratio_consistency > 0:\n",
    "            consistency_loss = self.consistency_loss(f_x_i_1, f_x_i_2)\n",
    "            L1 += self.ratio_consistency * torch.mean(consistency_loss)\n",
    "        \n",
    "        return L1\n",
    "    \n",
    "    def consistency_loss(self, f_x_i_1, f_x_i_2):\n",
    "        preds1 = F.softmax(f_x_i_1, dim=1).detach()\n",
    "        preds2 = F.log_softmax(f_x_i_2, dim=1)\n",
    "        loss_kldiv = F.kl_div(preds2, preds1, reduction='none')\n",
    "        loss_kldiv = torch.sum(loss_kldiv, dim=1)\n",
    "        return loss_kldiv\n",
    "    \n",
    "    def soft_to_hard(self, x):\n",
    "        with torch.no_grad():\n",
    "            device = x.device\n",
    "            hard_labels = torch.zeros(len(x), self.C, device=device)\n",
    "            hard_labels.scatter_(1, x.argmax(dim=1).view(-1, 1), 1)\n",
    "            return hard_labels\n"
   ]
  },
  {
   "cell_type": "code",
   "execution_count": 18,
   "id": "16138019",
   "metadata": {
    "execution": {
     "iopub.execute_input": "2025-05-30T11:48:25.744903Z",
     "iopub.status.busy": "2025-05-30T11:48:25.744599Z",
     "iopub.status.idle": "2025-05-30T11:48:26.133316Z",
     "shell.execute_reply": "2025-05-30T11:48:26.132349Z"
    },
    "id": "lHX55XGECXBr",
    "papermill": {
     "duration": 0.404199,
     "end_time": "2025-05-30T11:48:26.134925",
     "exception": false,
     "start_time": "2025-05-30T11:48:25.730726",
     "status": "completed"
    },
    "tags": []
   },
   "outputs": [],
   "source": [
    "script_dir = os.getcwd() \n",
    "# device = torch.device(f\"cuda:{args.device}\" if torch.cuda.is_available() else \"cpu\")\n",
    "device = torch.device(\"cuda\" if torch.cuda.is_available() else \"cpu\")\n",
    "num_checkpoints = args.num_checkpoints if args.num_checkpoints else 3\n",
    "    \n",
    "if args.gnn == 'gin':\n",
    "    model = GNN(gnn_type='gin', num_class=6, num_layer=args.num_layer, emb_dim=args.emb_dim, drop_ratio=args.drop_ratio, virtual_node=False).to(device)\n",
    "elif args.gnn == 'gin-virtual':\n",
    "    model = GNN(gnn_type='gin', num_class=6, num_layer=args.num_layer, emb_dim=args.emb_dim, drop_ratio=args.drop_ratio, virtual_node=True).to(device)\n",
    "elif args.gnn == 'gcn':\n",
    "    model = GNN(gnn_type='gcn', num_class=6, num_layer=args.num_layer, emb_dim=args.emb_dim, drop_ratio=args.drop_ratio, virtual_node=False).to(device)\n",
    "elif args.gnn == 'gcn-virtual':\n",
    "    model = GNN(gnn_type='gcn', num_class=6, num_layer=args.num_layer, emb_dim=args.emb_dim, drop_ratio=args.drop_ratio, virtual_node=True).to(device)\n",
    "else:\n",
    "    raise ValueError('Invalid GNN type')\n",
    "    \n",
    "optimizer = torch.optim.Adam(model.parameters(), lr=0.001)\n",
    "# criterion = torch.nn.CrossEntropyLoss()\n",
    "if args.baseline_mode == 2:\n",
    "    criterion = NoisyCrossEntropyLoss(args.noise_prob)\n",
    "else:\n",
    "    criterion = torch.nn.CrossEntropyLoss()\n",
    "# elif args.baseline_mode == 3:\n",
    "#     criterion = ncodLoss(labels, samples, classes)\n",
    "\n",
    "# NCOD Loss\n",
    "encoder_features = args.emb_dim #512\n",
    "total_epochs = args.epochs\n",
    "num_classes = 6\n",
    "# learnable param u of size n=no.samples"
   ]
  },
  {
   "cell_type": "code",
   "execution_count": 19,
   "id": "35556c76",
   "metadata": {
    "execution": {
     "iopub.execute_input": "2025-05-30T11:48:26.160281Z",
     "iopub.status.busy": "2025-05-30T11:48:26.159989Z",
     "iopub.status.idle": "2025-05-30T11:48:26.165271Z",
     "shell.execute_reply": "2025-05-30T11:48:26.164478Z"
    },
    "id": "BTYT5jYuChPb",
    "papermill": {
     "duration": 0.019401,
     "end_time": "2025-05-30T11:48:26.166869",
     "exception": false,
     "start_time": "2025-05-30T11:48:26.147468",
     "status": "completed"
    },
    "tags": []
   },
   "outputs": [],
   "source": [
    "test_dir_name = os.path.basename(os.path.dirname(args.test_path))\n",
    "logs_folder = os.path.join(script_dir, \"logs\", test_dir_name)\n",
    "log_file = os.path.join(logs_folder, \"training.log\")\n",
    "os.makedirs(os.path.dirname(log_file), exist_ok=True)\n",
    "logging.basicConfig(filename=log_file, level=logging.INFO, format='%(asctime)s - %(message)s')\n",
    "logging.getLogger().addHandler(logging.StreamHandler())\n",
    "\n",
    "checkpoint_path = os.path.join(script_dir, \"checkpoints\", f\"model_{test_dir_name}_best.pth\")\n",
    "checkpoints_folder = os.path.join(script_dir, \"checkpoints\", test_dir_name)\n",
    "os.makedirs(checkpoints_folder, exist_ok=True)"
   ]
  },
  {
   "cell_type": "code",
   "execution_count": 20,
   "id": "def76de2",
   "metadata": {
    "execution": {
     "iopub.execute_input": "2025-05-30T11:48:26.191932Z",
     "iopub.status.busy": "2025-05-30T11:48:26.191710Z",
     "iopub.status.idle": "2025-05-30T11:48:26.194878Z",
     "shell.execute_reply": "2025-05-30T11:48:26.194310Z"
    },
    "papermill": {
     "duration": 0.016614,
     "end_time": "2025-05-30T11:48:26.195960",
     "exception": false,
     "start_time": "2025-05-30T11:48:26.179346",
     "status": "completed"
    },
    "tags": []
   },
   "outputs": [],
   "source": [
    "if os.path.exists(checkpoint_path) and not args.train_path:\n",
    "    model.load_state_dict(torch.load(checkpoint_path))\n",
    "    print(f\"Loaded best model from {checkpoint_path}\")"
   ]
  },
  {
   "cell_type": "code",
   "execution_count": 21,
   "id": "5f979b51",
   "metadata": {
    "execution": {
     "iopub.execute_input": "2025-05-30T11:48:26.220172Z",
     "iopub.status.busy": "2025-05-30T11:48:26.219972Z",
     "iopub.status.idle": "2025-05-30T11:51:04.310932Z",
     "shell.execute_reply": "2025-05-30T11:51:04.309909Z"
    },
    "papermill": {
     "duration": 158.104763,
     "end_time": "2025-05-30T11:51:04.312613",
     "exception": false,
     "start_time": "2025-05-30T11:48:26.207850",
     "status": "completed"
    },
    "tags": []
   },
   "outputs": [],
   "source": [
    "# Load data\n",
    "full_dataset = GraphDataset(args.train_path, transform=add_zeros)\n",
    "val_size = int(0.2 * len(full_dataset))\n",
    "train_size = len(full_dataset) - val_size\n",
    "generator = torch.Generator().manual_seed(12)\n",
    "train_dataset, val_dataset = random_split(full_dataset, [train_size, val_size], generator=generator)\n",
    "train_loader = DataLoader(train_dataset, batch_size=args.batch_size, shuffle=True)\n",
    "val_loader = DataLoader(val_dataset, batch_size=args.batch_size, shuffle=False)\n",
    "\n",
    "# Train loop var\n",
    "num_epochs = args.epochs\n",
    "best_val_accuracy = 0.0   \n",
    "train_losses = []\n",
    "train_accuracies = []\n",
    "val_losses = []\n",
    "val_accuracies = []"
   ]
  },
  {
   "cell_type": "code",
   "execution_count": 22,
   "id": "59bfbff2",
   "metadata": {
    "execution": {
     "iopub.execute_input": "2025-05-30T11:51:04.339097Z",
     "iopub.status.busy": "2025-05-30T11:51:04.338840Z",
     "iopub.status.idle": "2025-05-30T11:51:30.228749Z",
     "shell.execute_reply": "2025-05-30T11:51:30.227764Z"
    },
    "papermill": {
     "duration": 25.905031,
     "end_time": "2025-05-30T11:51:30.230486",
     "exception": false,
     "start_time": "2025-05-30T11:51:04.325455",
     "status": "completed"
    },
    "tags": []
   },
   "outputs": [],
   "source": [
    "# Get labels for NCOD loss\n",
    "labels = []\n",
    "train_indices = []\n",
    "idx_counter = 0\n",
    "# Collect all training labels and create index mapping\n",
    "for batch_idx, data in enumerate(train_loader):\n",
    "    batch_labels = data.y.cpu().numpy()\n",
    "    labels.extend(batch_labels)\n",
    "    batch_indices = list(range(idx_counter, idx_counter + len(batch_labels)))\n",
    "    train_indices.extend(batch_indices)\n",
    "    idx_counter += len(batch_labels)\n",
    "labels = np.array(labels)\n",
    "train_size = len(labels)"
   ]
  },
  {
   "cell_type": "code",
   "execution_count": 23,
   "id": "e344f164",
   "metadata": {
    "execution": {
     "iopub.execute_input": "2025-05-30T11:51:30.257591Z",
     "iopub.status.busy": "2025-05-30T11:51:30.257348Z",
     "iopub.status.idle": "2025-05-30T11:51:30.280212Z",
     "shell.execute_reply": "2025-05-30T11:51:30.279645Z"
    },
    "papermill": {
     "duration": 0.036591,
     "end_time": "2025-05-30T11:51:30.281486",
     "exception": false,
     "start_time": "2025-05-30T11:51:30.244895",
     "status": "completed"
    },
    "tags": []
   },
   "outputs": [],
   "source": [
    "# # Load criterion\n",
    "# labels = torch.stack([data.y for data in train_dataset if data.y is not None])\n",
    "# if args.baseline_mode == 3:\n",
    "#     criterion = ncodLoss(labels, train_size, num_classes)\n",
    "#     u = nn.Parameter(torch.empty(train_size, 1, dtype=torch.float32))\n",
    "#     optimizer_u = torch.optim.SGD([u], lr=0.3, weight_decay=0)\n",
    "#     # TODO turn off self.beginning??\n",
    "# Initialize NCOD loss\n",
    "if args.baseline_mode == 3:\n",
    "    criterion = ncodLoss(labels, train_size, num_classes)\n",
    "    criterion = criterion.to(device)\n",
    "    \n",
    "    # Setup optimizers\n",
    "    optimizer = torch.optim.Adam(model.parameters(), lr=0.001)\n",
    "    optimizer_u = torch.optim.SGD(criterion.parameters(), lr=0.3, weight_decay=0)\n",
    "else:\n",
    "    criterion = nn.CrossEntropyLoss()\n",
    "    optimizer = torch.optim.Adam(model.parameters(), lr=0.001)\n",
    "    optimizer_u = None"
   ]
  },
  {
   "cell_type": "code",
   "execution_count": 24,
   "id": "8ad8d89d",
   "metadata": {
    "execution": {
     "iopub.execute_input": "2025-05-30T11:51:30.306153Z",
     "iopub.status.busy": "2025-05-30T11:51:30.305910Z",
     "iopub.status.idle": "2025-05-30T13:57:40.680506Z",
     "shell.execute_reply": "2025-05-30T13:57:40.679573Z"
    },
    "papermill": {
     "duration": 7570.388404,
     "end_time": "2025-05-30T13:57:40.681763",
     "exception": false,
     "start_time": "2025-05-30T11:51:30.293359",
     "status": "completed"
    },
    "tags": []
   },
   "outputs": [
    {
     "name": "stderr",
     "output_type": "stream",
     "text": [
      "Epoch 1/200: 100%|██████████| 257/257 [00:50<00:00,  5.09batch/s]\n",
      "Iterating eval graphs: 100%|██████████| 65/65 [00:09<00:00,  6.79batch/s]\n",
      "Epoch 1/200, Loss: 0.2662, Train Acc: 0.2267, Val Acc: 0.1124\n"
     ]
    },
    {
     "name": "stdout",
     "output_type": "stream",
     "text": [
      "Epoch 1/200, Loss: 0.2662, Train Acc: 0.2267, Val Acc: 0.1124\n",
      "Best model updated and saved at /kaggle/working/purple-hippo-project/checkpoints/model_D_best.pth\n"
     ]
    },
    {
     "name": "stderr",
     "output_type": "stream",
     "text": [
      "Epoch 2/200: 100%|██████████| 257/257 [00:49<00:00,  5.21batch/s]\n",
      "Iterating eval graphs: 100%|██████████| 65/65 [00:09<00:00,  6.84batch/s]\n",
      "Epoch 2/200, Loss: 1.0122, Train Acc: 0.2952, Val Acc: 0.3064\n"
     ]
    },
    {
     "name": "stdout",
     "output_type": "stream",
     "text": [
      "Epoch 2/200, Loss: 1.0122, Train Acc: 0.2952, Val Acc: 0.3064\n",
      "Best model updated and saved at /kaggle/working/purple-hippo-project/checkpoints/model_D_best.pth\n"
     ]
    },
    {
     "name": "stderr",
     "output_type": "stream",
     "text": [
      "Epoch 3/200: 100%|██████████| 257/257 [00:49<00:00,  5.20batch/s]\n",
      "Iterating eval graphs: 100%|██████████| 65/65 [00:09<00:00,  6.88batch/s]\n",
      "Epoch 3/200, Loss: 0.4872, Train Acc: 0.2881, Val Acc: 0.2889\n"
     ]
    },
    {
     "name": "stdout",
     "output_type": "stream",
     "text": [
      "Epoch 3/200, Loss: 0.4872, Train Acc: 0.2881, Val Acc: 0.2889\n"
     ]
    },
    {
     "name": "stderr",
     "output_type": "stream",
     "text": [
      "Epoch 4/200: 100%|██████████| 257/257 [00:49<00:00,  5.19batch/s]\n",
      "Iterating eval graphs: 100%|██████████| 65/65 [00:09<00:00,  6.90batch/s]\n",
      "Epoch 4/200, Loss: 0.4619, Train Acc: 0.2811, Val Acc: 0.2539\n"
     ]
    },
    {
     "name": "stdout",
     "output_type": "stream",
     "text": [
      "Epoch 4/200, Loss: 0.4619, Train Acc: 0.2811, Val Acc: 0.2539\n"
     ]
    },
    {
     "name": "stderr",
     "output_type": "stream",
     "text": [
      "Epoch 5/200: 100%|██████████| 257/257 [00:49<00:00,  5.21batch/s]\n",
      "Iterating eval graphs: 100%|██████████| 65/65 [00:09<00:00,  6.91batch/s]\n",
      "Epoch 5/200, Loss: 1.0767, Train Acc: 0.3447, Val Acc: 0.3531\n"
     ]
    },
    {
     "name": "stdout",
     "output_type": "stream",
     "text": [
      "Epoch 5/200, Loss: 1.0767, Train Acc: 0.3447, Val Acc: 0.3531\n",
      "Best model updated and saved at /kaggle/working/purple-hippo-project/checkpoints/model_D_best.pth\n"
     ]
    },
    {
     "name": "stderr",
     "output_type": "stream",
     "text": [
      "Epoch 6/200: 100%|██████████| 257/257 [00:49<00:00,  5.20batch/s]\n",
      "Iterating eval graphs: 100%|██████████| 65/65 [00:09<00:00,  6.84batch/s]\n",
      "Epoch 6/200, Loss: 0.9735, Train Acc: 0.3694, Val Acc: 0.3789\n"
     ]
    },
    {
     "name": "stdout",
     "output_type": "stream",
     "text": [
      "Epoch 6/200, Loss: 0.9735, Train Acc: 0.3694, Val Acc: 0.3789\n",
      "Best model updated and saved at /kaggle/working/purple-hippo-project/checkpoints/model_D_best.pth\n"
     ]
    },
    {
     "name": "stderr",
     "output_type": "stream",
     "text": [
      "Epoch 7/200: 100%|██████████| 257/257 [00:49<00:00,  5.20batch/s]\n",
      "Iterating eval graphs: 100%|██████████| 65/65 [00:09<00:00,  6.89batch/s]\n",
      "Epoch 7/200, Loss: 0.7933, Train Acc: 0.4191, Val Acc: 0.4081\n"
     ]
    },
    {
     "name": "stdout",
     "output_type": "stream",
     "text": [
      "Epoch 7/200, Loss: 0.7933, Train Acc: 0.4191, Val Acc: 0.4081\n",
      "Best model updated and saved at /kaggle/working/purple-hippo-project/checkpoints/model_D_best.pth\n"
     ]
    },
    {
     "name": "stderr",
     "output_type": "stream",
     "text": [
      "Epoch 8/200: 100%|██████████| 257/257 [00:49<00:00,  5.20batch/s]\n",
      "Iterating eval graphs: 100%|██████████| 65/65 [00:09<00:00,  6.86batch/s]\n",
      "Epoch 8/200, Loss: 0.7283, Train Acc: 0.4630, Val Acc: 0.4669\n"
     ]
    },
    {
     "name": "stdout",
     "output_type": "stream",
     "text": [
      "Epoch 8/200, Loss: 0.7283, Train Acc: 0.4630, Val Acc: 0.4669\n",
      "Best model updated and saved at /kaggle/working/purple-hippo-project/checkpoints/model_D_best.pth\n"
     ]
    },
    {
     "name": "stderr",
     "output_type": "stream",
     "text": [
      "Epoch 9/200: 100%|██████████| 257/257 [00:49<00:00,  5.19batch/s]\n",
      "Iterating eval graphs: 100%|██████████| 65/65 [00:09<00:00,  6.86batch/s]\n",
      "Epoch 9/200, Loss: 0.6807, Train Acc: 0.4870, Val Acc: 0.5204\n"
     ]
    },
    {
     "name": "stdout",
     "output_type": "stream",
     "text": [
      "Epoch 9/200, Loss: 0.6807, Train Acc: 0.4870, Val Acc: 0.5204\n",
      "Best model updated and saved at /kaggle/working/purple-hippo-project/checkpoints/model_D_best.pth\n"
     ]
    },
    {
     "name": "stderr",
     "output_type": "stream",
     "text": [
      "Epoch 10/200: 100%|██████████| 257/257 [00:49<00:00,  5.17batch/s]\n",
      "Iterating eval graphs: 100%|██████████| 65/65 [00:09<00:00,  6.86batch/s]\n",
      "Epoch 10/200, Loss: 0.6216, Train Acc: 0.5255, Val Acc: 0.3541\n"
     ]
    },
    {
     "name": "stdout",
     "output_type": "stream",
     "text": [
      "Epoch 10/200, Loss: 0.6216, Train Acc: 0.5255, Val Acc: 0.3541\n"
     ]
    },
    {
     "name": "stderr",
     "output_type": "stream",
     "text": [
      "Epoch 11/200: 100%|██████████| 257/257 [00:49<00:00,  5.20batch/s]\n",
      "Iterating eval graphs: 100%|██████████| 65/65 [00:09<00:00,  6.89batch/s]\n",
      "Epoch 11/200, Loss: 0.5915, Train Acc: 0.5349, Val Acc: 0.5554\n"
     ]
    },
    {
     "name": "stdout",
     "output_type": "stream",
     "text": [
      "Epoch 11/200, Loss: 0.5915, Train Acc: 0.5349, Val Acc: 0.5554\n",
      "Best model updated and saved at /kaggle/working/purple-hippo-project/checkpoints/model_D_best.pth\n"
     ]
    },
    {
     "name": "stderr",
     "output_type": "stream",
     "text": [
      "Epoch 12/200: 100%|██████████| 257/257 [00:49<00:00,  5.19batch/s]\n",
      "Iterating eval graphs: 100%|██████████| 65/65 [00:09<00:00,  6.86batch/s]\n",
      "Epoch 12/200, Loss: 0.5665, Train Acc: 0.5531, Val Acc: 0.5097\n"
     ]
    },
    {
     "name": "stdout",
     "output_type": "stream",
     "text": [
      "Epoch 12/200, Loss: 0.5665, Train Acc: 0.5531, Val Acc: 0.5097\n"
     ]
    },
    {
     "name": "stderr",
     "output_type": "stream",
     "text": [
      "Epoch 13/200: 100%|██████████| 257/257 [00:49<00:00,  5.19batch/s]\n",
      "Iterating eval graphs: 100%|██████████| 65/65 [00:09<00:00,  6.89batch/s]\n",
      "Epoch 13/200, Loss: 0.5562, Train Acc: 0.5602, Val Acc: 0.5691\n"
     ]
    },
    {
     "name": "stdout",
     "output_type": "stream",
     "text": [
      "Epoch 13/200, Loss: 0.5562, Train Acc: 0.5602, Val Acc: 0.5691\n",
      "Best model updated and saved at /kaggle/working/purple-hippo-project/checkpoints/model_D_best.pth\n"
     ]
    },
    {
     "name": "stderr",
     "output_type": "stream",
     "text": [
      "Epoch 14/200: 100%|██████████| 257/257 [00:49<00:00,  5.18batch/s]\n",
      "Iterating eval graphs: 100%|██████████| 65/65 [00:09<00:00,  6.89batch/s]\n",
      "Epoch 14/200, Loss: 0.5457, Train Acc: 0.5623, Val Acc: 0.4771\n"
     ]
    },
    {
     "name": "stdout",
     "output_type": "stream",
     "text": [
      "Epoch 14/200, Loss: 0.5457, Train Acc: 0.5623, Val Acc: 0.4771\n"
     ]
    },
    {
     "name": "stderr",
     "output_type": "stream",
     "text": [
      "Epoch 15/200: 100%|██████████| 257/257 [00:49<00:00,  5.19batch/s]\n",
      "Iterating eval graphs: 100%|██████████| 65/65 [00:09<00:00,  6.82batch/s]\n",
      "Epoch 15/200, Loss: 0.5169, Train Acc: 0.5643, Val Acc: 0.5885\n"
     ]
    },
    {
     "name": "stdout",
     "output_type": "stream",
     "text": [
      "Epoch 15/200, Loss: 0.5169, Train Acc: 0.5643, Val Acc: 0.5885\n",
      "Best model updated and saved at /kaggle/working/purple-hippo-project/checkpoints/model_D_best.pth\n"
     ]
    },
    {
     "name": "stderr",
     "output_type": "stream",
     "text": [
      "Epoch 16/200: 100%|██████████| 257/257 [00:49<00:00,  5.20batch/s]\n",
      "Iterating eval graphs: 100%|██████████| 65/65 [00:09<00:00,  6.72batch/s]\n",
      "Epoch 16/200, Loss: 0.4956, Train Acc: 0.5936, Val Acc: 0.5827\n"
     ]
    },
    {
     "name": "stdout",
     "output_type": "stream",
     "text": [
      "Epoch 16/200, Loss: 0.4956, Train Acc: 0.5936, Val Acc: 0.5827\n"
     ]
    },
    {
     "name": "stderr",
     "output_type": "stream",
     "text": [
      "Epoch 17/200: 100%|██████████| 257/257 [00:49<00:00,  5.20batch/s]\n",
      "Iterating eval graphs: 100%|██████████| 65/65 [00:09<00:00,  6.83batch/s]\n",
      "Epoch 17/200, Loss: 0.4718, Train Acc: 0.5946, Val Acc: 0.5520\n"
     ]
    },
    {
     "name": "stdout",
     "output_type": "stream",
     "text": [
      "Epoch 17/200, Loss: 0.4718, Train Acc: 0.5946, Val Acc: 0.5520\n"
     ]
    },
    {
     "name": "stderr",
     "output_type": "stream",
     "text": [
      "Epoch 18/200: 100%|██████████| 257/257 [00:49<00:00,  5.20batch/s]\n",
      "Iterating eval graphs: 100%|██████████| 65/65 [00:09<00:00,  6.90batch/s]\n",
      "Epoch 18/200, Loss: 0.4864, Train Acc: 0.5869, Val Acc: 0.5958\n"
     ]
    },
    {
     "name": "stdout",
     "output_type": "stream",
     "text": [
      "Epoch 18/200, Loss: 0.4864, Train Acc: 0.5869, Val Acc: 0.5958\n",
      "Best model updated and saved at /kaggle/working/purple-hippo-project/checkpoints/model_D_best.pth\n"
     ]
    },
    {
     "name": "stderr",
     "output_type": "stream",
     "text": [
      "Epoch 19/200: 100%|██████████| 257/257 [00:49<00:00,  5.19batch/s]\n",
      "Iterating eval graphs: 100%|██████████| 65/65 [00:09<00:00,  6.89batch/s]\n",
      "Epoch 19/200, Loss: 0.4680, Train Acc: 0.6051, Val Acc: 0.5413\n"
     ]
    },
    {
     "name": "stdout",
     "output_type": "stream",
     "text": [
      "Epoch 19/200, Loss: 0.4680, Train Acc: 0.6051, Val Acc: 0.5413\n"
     ]
    },
    {
     "name": "stderr",
     "output_type": "stream",
     "text": [
      "Epoch 20/200: 100%|██████████| 257/257 [00:49<00:00,  5.18batch/s]\n",
      "Iterating eval graphs: 100%|██████████| 65/65 [00:09<00:00,  6.89batch/s]\n",
      "Epoch 20/200, Loss: 0.4756, Train Acc: 0.5958, Val Acc: 0.5428\n"
     ]
    },
    {
     "name": "stdout",
     "output_type": "stream",
     "text": [
      "Epoch 20/200, Loss: 0.4756, Train Acc: 0.5958, Val Acc: 0.5428\n"
     ]
    },
    {
     "name": "stderr",
     "output_type": "stream",
     "text": [
      "Epoch 21/200: 100%|██████████| 257/257 [00:49<00:00,  5.19batch/s]\n",
      "Iterating eval graphs: 100%|██████████| 65/65 [00:09<00:00,  6.92batch/s]\n",
      "Epoch 21/200, Loss: 0.4535, Train Acc: 0.6143, Val Acc: 0.5404\n"
     ]
    },
    {
     "name": "stdout",
     "output_type": "stream",
     "text": [
      "Epoch 21/200, Loss: 0.4535, Train Acc: 0.6143, Val Acc: 0.5404\n"
     ]
    },
    {
     "name": "stderr",
     "output_type": "stream",
     "text": [
      "Epoch 22/200: 100%|██████████| 257/257 [00:49<00:00,  5.20batch/s]\n",
      "Iterating eval graphs: 100%|██████████| 65/65 [00:09<00:00,  6.83batch/s]\n",
      "Epoch 22/200, Loss: 0.4598, Train Acc: 0.6041, Val Acc: 0.5511\n"
     ]
    },
    {
     "name": "stdout",
     "output_type": "stream",
     "text": [
      "Epoch 22/200, Loss: 0.4598, Train Acc: 0.6041, Val Acc: 0.5511\n"
     ]
    },
    {
     "name": "stderr",
     "output_type": "stream",
     "text": [
      "Epoch 23/200: 100%|██████████| 257/257 [00:49<00:00,  5.17batch/s]\n",
      "Iterating eval graphs: 100%|██████████| 65/65 [00:09<00:00,  6.89batch/s]\n",
      "Epoch 23/200, Loss: 0.4402, Train Acc: 0.6103, Val Acc: 0.5715\n"
     ]
    },
    {
     "name": "stdout",
     "output_type": "stream",
     "text": [
      "Epoch 23/200, Loss: 0.4402, Train Acc: 0.6103, Val Acc: 0.5715\n"
     ]
    },
    {
     "name": "stderr",
     "output_type": "stream",
     "text": [
      "Epoch 24/200: 100%|██████████| 257/257 [00:49<00:00,  5.19batch/s]\n",
      "Iterating eval graphs: 100%|██████████| 65/65 [00:09<00:00,  6.81batch/s]\n",
      "Epoch 24/200, Loss: 0.4368, Train Acc: 0.6187, Val Acc: 0.6260\n"
     ]
    },
    {
     "name": "stdout",
     "output_type": "stream",
     "text": [
      "Epoch 24/200, Loss: 0.4368, Train Acc: 0.6187, Val Acc: 0.6260\n",
      "Best model updated and saved at /kaggle/working/purple-hippo-project/checkpoints/model_D_best.pth\n"
     ]
    },
    {
     "name": "stderr",
     "output_type": "stream",
     "text": [
      "Epoch 25/200: 100%|██████████| 257/257 [00:49<00:00,  5.18batch/s]\n",
      "Iterating eval graphs: 100%|██████████| 65/65 [00:09<00:00,  6.85batch/s]\n",
      "Epoch 25/200, Loss: 0.4074, Train Acc: 0.6299, Val Acc: 0.6639\n"
     ]
    },
    {
     "name": "stdout",
     "output_type": "stream",
     "text": [
      "Epoch 25/200, Loss: 0.4074, Train Acc: 0.6299, Val Acc: 0.6639\n",
      "Best model updated and saved at /kaggle/working/purple-hippo-project/checkpoints/model_D_best.pth\n"
     ]
    },
    {
     "name": "stderr",
     "output_type": "stream",
     "text": [
      "Epoch 26/200: 100%|██████████| 257/257 [00:49<00:00,  5.19batch/s]\n",
      "Iterating eval graphs: 100%|██████████| 65/65 [00:09<00:00,  6.90batch/s]\n",
      "Epoch 26/200, Loss: 0.4186, Train Acc: 0.6278, Val Acc: 0.5705\n"
     ]
    },
    {
     "name": "stdout",
     "output_type": "stream",
     "text": [
      "Epoch 26/200, Loss: 0.4186, Train Acc: 0.6278, Val Acc: 0.5705\n"
     ]
    },
    {
     "name": "stderr",
     "output_type": "stream",
     "text": [
      "Epoch 27/200: 100%|██████████| 257/257 [00:49<00:00,  5.18batch/s]\n",
      "Iterating eval graphs: 100%|██████████| 65/65 [00:09<00:00,  6.90batch/s]\n",
      "Epoch 27/200, Loss: 0.3926, Train Acc: 0.6417, Val Acc: 0.6318\n"
     ]
    },
    {
     "name": "stdout",
     "output_type": "stream",
     "text": [
      "Epoch 27/200, Loss: 0.3926, Train Acc: 0.6417, Val Acc: 0.6318\n"
     ]
    },
    {
     "name": "stderr",
     "output_type": "stream",
     "text": [
      "Epoch 28/200: 100%|██████████| 257/257 [00:49<00:00,  5.17batch/s]\n",
      "Iterating eval graphs: 100%|██████████| 65/65 [00:09<00:00,  6.90batch/s]\n",
      "Epoch 28/200, Loss: 0.4134, Train Acc: 0.6327, Val Acc: 0.6625\n"
     ]
    },
    {
     "name": "stdout",
     "output_type": "stream",
     "text": [
      "Epoch 28/200, Loss: 0.4134, Train Acc: 0.6327, Val Acc: 0.6625\n"
     ]
    },
    {
     "name": "stderr",
     "output_type": "stream",
     "text": [
      "Epoch 29/200: 100%|██████████| 257/257 [00:49<00:00,  5.18batch/s]\n",
      "Iterating eval graphs: 100%|██████████| 65/65 [00:09<00:00,  6.88batch/s]\n",
      "Epoch 29/200, Loss: 0.4014, Train Acc: 0.6459, Val Acc: 0.5584\n"
     ]
    },
    {
     "name": "stdout",
     "output_type": "stream",
     "text": [
      "Epoch 29/200, Loss: 0.4014, Train Acc: 0.6459, Val Acc: 0.5584\n"
     ]
    },
    {
     "name": "stderr",
     "output_type": "stream",
     "text": [
      "Epoch 30/200: 100%|██████████| 257/257 [00:49<00:00,  5.18batch/s]\n",
      "Iterating eval graphs: 100%|██████████| 65/65 [00:09<00:00,  6.89batch/s]\n",
      "Epoch 30/200, Loss: 0.3973, Train Acc: 0.6481, Val Acc: 0.6727\n"
     ]
    },
    {
     "name": "stdout",
     "output_type": "stream",
     "text": [
      "Epoch 30/200, Loss: 0.3973, Train Acc: 0.6481, Val Acc: 0.6727\n",
      "Best model updated and saved at /kaggle/working/purple-hippo-project/checkpoints/model_D_best.pth\n"
     ]
    },
    {
     "name": "stderr",
     "output_type": "stream",
     "text": [
      "Epoch 31/200: 100%|██████████| 257/257 [00:49<00:00,  5.19batch/s]\n",
      "Iterating eval graphs: 100%|██████████| 65/65 [00:09<00:00,  6.81batch/s]\n",
      "Epoch 31/200, Loss: 0.3797, Train Acc: 0.6622, Val Acc: 0.6342\n"
     ]
    },
    {
     "name": "stdout",
     "output_type": "stream",
     "text": [
      "Epoch 31/200, Loss: 0.3797, Train Acc: 0.6622, Val Acc: 0.6342\n"
     ]
    },
    {
     "name": "stderr",
     "output_type": "stream",
     "text": [
      "Epoch 32/200: 100%|██████████| 257/257 [00:50<00:00,  5.07batch/s]\n",
      "Iterating eval graphs: 100%|██████████| 65/65 [00:10<00:00,  6.23batch/s]\n",
      "Epoch 32/200, Loss: 0.3839, Train Acc: 0.6682, Val Acc: 0.6415\n"
     ]
    },
    {
     "name": "stdout",
     "output_type": "stream",
     "text": [
      "Epoch 32/200, Loss: 0.3839, Train Acc: 0.6682, Val Acc: 0.6415\n"
     ]
    },
    {
     "name": "stderr",
     "output_type": "stream",
     "text": [
      "Epoch 33/200: 100%|██████████| 257/257 [00:49<00:00,  5.18batch/s]\n",
      "Iterating eval graphs: 100%|██████████| 65/65 [00:09<00:00,  6.82batch/s]\n",
      "Epoch 33/200, Loss: 0.3687, Train Acc: 0.6643, Val Acc: 0.6128\n"
     ]
    },
    {
     "name": "stdout",
     "output_type": "stream",
     "text": [
      "Epoch 33/200, Loss: 0.3687, Train Acc: 0.6643, Val Acc: 0.6128\n"
     ]
    },
    {
     "name": "stderr",
     "output_type": "stream",
     "text": [
      "Epoch 34/200: 100%|██████████| 257/257 [00:49<00:00,  5.19batch/s]\n",
      "Iterating eval graphs: 100%|██████████| 65/65 [00:09<00:00,  6.83batch/s]\n",
      "Epoch 34/200, Loss: 0.3758, Train Acc: 0.6758, Val Acc: 0.6454\n"
     ]
    },
    {
     "name": "stdout",
     "output_type": "stream",
     "text": [
      "Epoch 34/200, Loss: 0.3758, Train Acc: 0.6758, Val Acc: 0.6454\n"
     ]
    },
    {
     "name": "stderr",
     "output_type": "stream",
     "text": [
      "Epoch 35/200: 100%|██████████| 257/257 [00:49<00:00,  5.16batch/s]\n",
      "Iterating eval graphs: 100%|██████████| 65/65 [00:09<00:00,  6.89batch/s]\n",
      "Epoch 35/200, Loss: 0.3702, Train Acc: 0.6694, Val Acc: 0.5666\n"
     ]
    },
    {
     "name": "stdout",
     "output_type": "stream",
     "text": [
      "Epoch 35/200, Loss: 0.3702, Train Acc: 0.6694, Val Acc: 0.5666\n"
     ]
    },
    {
     "name": "stderr",
     "output_type": "stream",
     "text": [
      "Epoch 36/200: 100%|██████████| 257/257 [00:49<00:00,  5.19batch/s]\n",
      "Iterating eval graphs: 100%|██████████| 65/65 [00:09<00:00,  6.91batch/s]\n",
      "Epoch 36/200, Loss: 0.3611, Train Acc: 0.6811, Val Acc: 0.6673\n"
     ]
    },
    {
     "name": "stdout",
     "output_type": "stream",
     "text": [
      "Epoch 36/200, Loss: 0.3611, Train Acc: 0.6811, Val Acc: 0.6673\n"
     ]
    },
    {
     "name": "stderr",
     "output_type": "stream",
     "text": [
      "Epoch 37/200: 100%|██████████| 257/257 [00:49<00:00,  5.19batch/s]\n",
      "Iterating eval graphs: 100%|██████████| 65/65 [00:09<00:00,  6.88batch/s]\n",
      "Epoch 37/200, Loss: 0.3662, Train Acc: 0.6785, Val Acc: 0.6362\n"
     ]
    },
    {
     "name": "stdout",
     "output_type": "stream",
     "text": [
      "Epoch 37/200, Loss: 0.3662, Train Acc: 0.6785, Val Acc: 0.6362\n"
     ]
    },
    {
     "name": "stderr",
     "output_type": "stream",
     "text": [
      "Epoch 38/200: 100%|██████████| 257/257 [00:49<00:00,  5.18batch/s]\n",
      "Iterating eval graphs: 100%|██████████| 65/65 [00:09<00:00,  6.88batch/s]\n",
      "Epoch 38/200, Loss: 0.3529, Train Acc: 0.6830, Val Acc: 0.6031\n"
     ]
    },
    {
     "name": "stdout",
     "output_type": "stream",
     "text": [
      "Epoch 38/200, Loss: 0.3529, Train Acc: 0.6830, Val Acc: 0.6031\n"
     ]
    },
    {
     "name": "stderr",
     "output_type": "stream",
     "text": [
      "Epoch 39/200: 100%|██████████| 257/257 [00:49<00:00,  5.18batch/s]\n",
      "Iterating eval graphs: 100%|██████████| 65/65 [00:09<00:00,  6.88batch/s]\n",
      "Epoch 39/200, Loss: 0.3562, Train Acc: 0.6830, Val Acc: 0.4660\n"
     ]
    },
    {
     "name": "stdout",
     "output_type": "stream",
     "text": [
      "Epoch 39/200, Loss: 0.3562, Train Acc: 0.6830, Val Acc: 0.4660\n"
     ]
    },
    {
     "name": "stderr",
     "output_type": "stream",
     "text": [
      "Epoch 40/200: 100%|██████████| 257/257 [00:49<00:00,  5.17batch/s]\n",
      "Iterating eval graphs: 100%|██████████| 65/65 [00:09<00:00,  6.81batch/s]\n",
      "Epoch 40/200, Loss: 0.3526, Train Acc: 0.6835, Val Acc: 0.5092\n"
     ]
    },
    {
     "name": "stdout",
     "output_type": "stream",
     "text": [
      "Epoch 40/200, Loss: 0.3526, Train Acc: 0.6835, Val Acc: 0.5092\n",
      "Checkpoint saved at /kaggle/working/purple-hippo-project/checkpoints/model_D_best.pth_epoch_40.pth\n"
     ]
    },
    {
     "name": "stderr",
     "output_type": "stream",
     "text": [
      "Epoch 41/200: 100%|██████████| 257/257 [00:49<00:00,  5.19batch/s]\n",
      "Iterating eval graphs: 100%|██████████| 65/65 [00:09<00:00,  6.83batch/s]\n",
      "Epoch 41/200, Loss: 0.3617, Train Acc: 0.6770, Val Acc: 0.6853\n"
     ]
    },
    {
     "name": "stdout",
     "output_type": "stream",
     "text": [
      "Epoch 41/200, Loss: 0.3617, Train Acc: 0.6770, Val Acc: 0.6853\n",
      "Best model updated and saved at /kaggle/working/purple-hippo-project/checkpoints/model_D_best.pth\n"
     ]
    },
    {
     "name": "stderr",
     "output_type": "stream",
     "text": [
      "Epoch 42/200: 100%|██████████| 257/257 [00:49<00:00,  5.19batch/s]\n",
      "Iterating eval graphs: 100%|██████████| 65/65 [00:09<00:00,  6.89batch/s]\n",
      "Epoch 42/200, Loss: 0.3612, Train Acc: 0.6901, Val Acc: 0.6809\n"
     ]
    },
    {
     "name": "stdout",
     "output_type": "stream",
     "text": [
      "Epoch 42/200, Loss: 0.3612, Train Acc: 0.6901, Val Acc: 0.6809\n"
     ]
    },
    {
     "name": "stderr",
     "output_type": "stream",
     "text": [
      "Epoch 43/200: 100%|██████████| 257/257 [00:49<00:00,  5.19batch/s]\n",
      "Iterating eval graphs: 100%|██████████| 65/65 [00:09<00:00,  6.91batch/s]\n",
      "Epoch 43/200, Loss: 0.3457, Train Acc: 0.6946, Val Acc: 0.6775\n"
     ]
    },
    {
     "name": "stdout",
     "output_type": "stream",
     "text": [
      "Epoch 43/200, Loss: 0.3457, Train Acc: 0.6946, Val Acc: 0.6775\n"
     ]
    },
    {
     "name": "stderr",
     "output_type": "stream",
     "text": [
      "Epoch 44/200: 100%|██████████| 257/257 [00:49<00:00,  5.18batch/s]\n",
      "Iterating eval graphs: 100%|██████████| 65/65 [00:09<00:00,  6.87batch/s]\n",
      "Epoch 44/200, Loss: 0.3543, Train Acc: 0.6925, Val Acc: 0.7223\n"
     ]
    },
    {
     "name": "stdout",
     "output_type": "stream",
     "text": [
      "Epoch 44/200, Loss: 0.3543, Train Acc: 0.6925, Val Acc: 0.7223\n",
      "Best model updated and saved at /kaggle/working/purple-hippo-project/checkpoints/model_D_best.pth\n"
     ]
    },
    {
     "name": "stderr",
     "output_type": "stream",
     "text": [
      "Epoch 45/200: 100%|██████████| 257/257 [00:49<00:00,  5.19batch/s]\n",
      "Iterating eval graphs: 100%|██████████| 65/65 [00:09<00:00,  6.76batch/s]\n",
      "Epoch 45/200, Loss: 0.3335, Train Acc: 0.7055, Val Acc: 0.6955\n"
     ]
    },
    {
     "name": "stdout",
     "output_type": "stream",
     "text": [
      "Epoch 45/200, Loss: 0.3335, Train Acc: 0.7055, Val Acc: 0.6955\n"
     ]
    },
    {
     "name": "stderr",
     "output_type": "stream",
     "text": [
      "Epoch 46/200: 100%|██████████| 257/257 [00:49<00:00,  5.19batch/s]\n",
      "Iterating eval graphs: 100%|██████████| 65/65 [00:09<00:00,  6.90batch/s]\n",
      "Epoch 46/200, Loss: 0.3393, Train Acc: 0.7054, Val Acc: 0.6814\n"
     ]
    },
    {
     "name": "stdout",
     "output_type": "stream",
     "text": [
      "Epoch 46/200, Loss: 0.3393, Train Acc: 0.7054, Val Acc: 0.6814\n"
     ]
    },
    {
     "name": "stderr",
     "output_type": "stream",
     "text": [
      "Epoch 47/200: 100%|██████████| 257/257 [00:49<00:00,  5.21batch/s]\n",
      "Iterating eval graphs: 100%|██████████| 65/65 [00:09<00:00,  6.83batch/s]\n",
      "Epoch 47/200, Loss: 0.3345, Train Acc: 0.6929, Val Acc: 0.6902\n"
     ]
    },
    {
     "name": "stdout",
     "output_type": "stream",
     "text": [
      "Epoch 47/200, Loss: 0.3345, Train Acc: 0.6929, Val Acc: 0.6902\n"
     ]
    },
    {
     "name": "stderr",
     "output_type": "stream",
     "text": [
      "Epoch 48/200: 100%|██████████| 257/257 [00:49<00:00,  5.19batch/s]\n",
      "Iterating eval graphs: 100%|██████████| 65/65 [00:09<00:00,  6.84batch/s]\n",
      "Epoch 48/200, Loss: 0.3262, Train Acc: 0.7088, Val Acc: 0.7048\n"
     ]
    },
    {
     "name": "stdout",
     "output_type": "stream",
     "text": [
      "Epoch 48/200, Loss: 0.3262, Train Acc: 0.7088, Val Acc: 0.7048\n"
     ]
    },
    {
     "name": "stderr",
     "output_type": "stream",
     "text": [
      "Epoch 49/200: 100%|██████████| 257/257 [00:49<00:00,  5.20batch/s]\n",
      "Iterating eval graphs: 100%|██████████| 65/65 [00:09<00:00,  6.87batch/s]\n",
      "Epoch 49/200, Loss: 0.3281, Train Acc: 0.7098, Val Acc: 0.6571\n"
     ]
    },
    {
     "name": "stdout",
     "output_type": "stream",
     "text": [
      "Epoch 49/200, Loss: 0.3281, Train Acc: 0.7098, Val Acc: 0.6571\n"
     ]
    },
    {
     "name": "stderr",
     "output_type": "stream",
     "text": [
      "Epoch 50/200: 100%|██████████| 257/257 [00:49<00:00,  5.19batch/s]\n",
      "Iterating eval graphs: 100%|██████████| 65/65 [00:09<00:00,  6.91batch/s]\n",
      "Epoch 50/200, Loss: 0.3260, Train Acc: 0.7163, Val Acc: 0.7208\n"
     ]
    },
    {
     "name": "stdout",
     "output_type": "stream",
     "text": [
      "Epoch 50/200, Loss: 0.3260, Train Acc: 0.7163, Val Acc: 0.7208\n"
     ]
    },
    {
     "name": "stderr",
     "output_type": "stream",
     "text": [
      "Epoch 51/200: 100%|██████████| 257/257 [00:49<00:00,  5.19batch/s]\n",
      "Iterating eval graphs: 100%|██████████| 65/65 [00:09<00:00,  6.91batch/s]\n",
      "Epoch 51/200, Loss: 0.3207, Train Acc: 0.7212, Val Acc: 0.7237\n"
     ]
    },
    {
     "name": "stdout",
     "output_type": "stream",
     "text": [
      "Epoch 51/200, Loss: 0.3207, Train Acc: 0.7212, Val Acc: 0.7237\n",
      "Best model updated and saved at /kaggle/working/purple-hippo-project/checkpoints/model_D_best.pth\n"
     ]
    },
    {
     "name": "stderr",
     "output_type": "stream",
     "text": [
      "Epoch 52/200: 100%|██████████| 257/257 [00:49<00:00,  5.18batch/s]\n",
      "Iterating eval graphs: 100%|██████████| 65/65 [00:09<00:00,  6.86batch/s]\n",
      "Epoch 52/200, Loss: 0.3301, Train Acc: 0.7186, Val Acc: 0.7242\n"
     ]
    },
    {
     "name": "stdout",
     "output_type": "stream",
     "text": [
      "Epoch 52/200, Loss: 0.3301, Train Acc: 0.7186, Val Acc: 0.7242\n",
      "Best model updated and saved at /kaggle/working/purple-hippo-project/checkpoints/model_D_best.pth\n"
     ]
    },
    {
     "name": "stderr",
     "output_type": "stream",
     "text": [
      "Epoch 53/200: 100%|██████████| 257/257 [00:49<00:00,  5.16batch/s]\n",
      "Iterating eval graphs: 100%|██████████| 65/65 [00:09<00:00,  6.90batch/s]\n",
      "Epoch 53/200, Loss: 0.3156, Train Acc: 0.7218, Val Acc: 0.7218\n"
     ]
    },
    {
     "name": "stdout",
     "output_type": "stream",
     "text": [
      "Epoch 53/200, Loss: 0.3156, Train Acc: 0.7218, Val Acc: 0.7218\n"
     ]
    },
    {
     "name": "stderr",
     "output_type": "stream",
     "text": [
      "Epoch 54/200: 100%|██████████| 257/257 [00:49<00:00,  5.18batch/s]\n",
      "Iterating eval graphs: 100%|██████████| 65/65 [00:09<00:00,  6.91batch/s]\n",
      "Epoch 54/200, Loss: 0.3273, Train Acc: 0.7140, Val Acc: 0.7232\n"
     ]
    },
    {
     "name": "stdout",
     "output_type": "stream",
     "text": [
      "Epoch 54/200, Loss: 0.3273, Train Acc: 0.7140, Val Acc: 0.7232\n"
     ]
    },
    {
     "name": "stderr",
     "output_type": "stream",
     "text": [
      "Epoch 55/200: 100%|██████████| 257/257 [00:49<00:00,  5.20batch/s]\n",
      "Iterating eval graphs: 100%|██████████| 65/65 [00:09<00:00,  6.86batch/s]\n",
      "Epoch 55/200, Loss: 0.3195, Train Acc: 0.7299, Val Acc: 0.7198\n"
     ]
    },
    {
     "name": "stdout",
     "output_type": "stream",
     "text": [
      "Epoch 55/200, Loss: 0.3195, Train Acc: 0.7299, Val Acc: 0.7198\n"
     ]
    },
    {
     "name": "stderr",
     "output_type": "stream",
     "text": [
      "Epoch 56/200: 100%|██████████| 257/257 [00:49<00:00,  5.20batch/s]\n",
      "Iterating eval graphs: 100%|██████████| 65/65 [00:09<00:00,  6.86batch/s]\n",
      "Epoch 56/200, Loss: 0.3105, Train Acc: 0.7268, Val Acc: 0.6829\n"
     ]
    },
    {
     "name": "stdout",
     "output_type": "stream",
     "text": [
      "Epoch 56/200, Loss: 0.3105, Train Acc: 0.7268, Val Acc: 0.6829\n"
     ]
    },
    {
     "name": "stderr",
     "output_type": "stream",
     "text": [
      "Epoch 57/200: 100%|██████████| 257/257 [00:49<00:00,  5.20batch/s]\n",
      "Iterating eval graphs: 100%|██████████| 65/65 [00:09<00:00,  6.90batch/s]\n",
      "Epoch 57/200, Loss: 0.3230, Train Acc: 0.7263, Val Acc: 0.6960\n"
     ]
    },
    {
     "name": "stdout",
     "output_type": "stream",
     "text": [
      "Epoch 57/200, Loss: 0.3230, Train Acc: 0.7263, Val Acc: 0.6960\n"
     ]
    },
    {
     "name": "stderr",
     "output_type": "stream",
     "text": [
      "Epoch 58/200: 100%|██████████| 257/257 [00:49<00:00,  5.19batch/s]\n",
      "Iterating eval graphs: 100%|██████████| 65/65 [00:09<00:00,  6.93batch/s]\n",
      "Epoch 58/200, Loss: 0.3253, Train Acc: 0.7183, Val Acc: 0.7135\n"
     ]
    },
    {
     "name": "stdout",
     "output_type": "stream",
     "text": [
      "Epoch 58/200, Loss: 0.3253, Train Acc: 0.7183, Val Acc: 0.7135\n"
     ]
    },
    {
     "name": "stderr",
     "output_type": "stream",
     "text": [
      "Epoch 59/200: 100%|██████████| 257/257 [00:49<00:00,  5.19batch/s]\n",
      "Iterating eval graphs: 100%|██████████| 65/65 [00:09<00:00,  6.90batch/s]\n",
      "Epoch 59/200, Loss: 0.3141, Train Acc: 0.7319, Val Acc: 0.6727\n"
     ]
    },
    {
     "name": "stdout",
     "output_type": "stream",
     "text": [
      "Epoch 59/200, Loss: 0.3141, Train Acc: 0.7319, Val Acc: 0.6727\n"
     ]
    },
    {
     "name": "stderr",
     "output_type": "stream",
     "text": [
      "Epoch 60/200: 100%|██████████| 257/257 [00:49<00:00,  5.19batch/s]\n",
      "Iterating eval graphs: 100%|██████████| 65/65 [00:09<00:00,  6.91batch/s]\n",
      "Epoch 60/200, Loss: 0.3169, Train Acc: 0.7280, Val Acc: 0.6960\n"
     ]
    },
    {
     "name": "stdout",
     "output_type": "stream",
     "text": [
      "Epoch 60/200, Loss: 0.3169, Train Acc: 0.7280, Val Acc: 0.6960\n"
     ]
    },
    {
     "name": "stderr",
     "output_type": "stream",
     "text": [
      "Epoch 61/200: 100%|██████████| 257/257 [00:49<00:00,  5.19batch/s]\n",
      "Iterating eval graphs: 100%|██████████| 65/65 [00:09<00:00,  6.92batch/s]\n",
      "Epoch 61/200, Loss: 0.3210, Train Acc: 0.7268, Val Acc: 0.7218\n"
     ]
    },
    {
     "name": "stdout",
     "output_type": "stream",
     "text": [
      "Epoch 61/200, Loss: 0.3210, Train Acc: 0.7268, Val Acc: 0.7218\n"
     ]
    },
    {
     "name": "stderr",
     "output_type": "stream",
     "text": [
      "Epoch 62/200: 100%|██████████| 257/257 [00:49<00:00,  5.20batch/s]\n",
      "Iterating eval graphs: 100%|██████████| 65/65 [00:09<00:00,  6.87batch/s]\n",
      "Epoch 62/200, Loss: 0.3139, Train Acc: 0.7250, Val Acc: 0.6590\n"
     ]
    },
    {
     "name": "stdout",
     "output_type": "stream",
     "text": [
      "Epoch 62/200, Loss: 0.3139, Train Acc: 0.7250, Val Acc: 0.6590\n"
     ]
    },
    {
     "name": "stderr",
     "output_type": "stream",
     "text": [
      "Epoch 63/200: 100%|██████████| 257/257 [00:49<00:00,  5.20batch/s]\n",
      "Iterating eval graphs: 100%|██████████| 65/65 [00:09<00:00,  6.87batch/s]\n",
      "Epoch 63/200, Loss: 0.3155, Train Acc: 0.7270, Val Acc: 0.6610\n"
     ]
    },
    {
     "name": "stdout",
     "output_type": "stream",
     "text": [
      "Epoch 63/200, Loss: 0.3155, Train Acc: 0.7270, Val Acc: 0.6610\n"
     ]
    },
    {
     "name": "stderr",
     "output_type": "stream",
     "text": [
      "Epoch 64/200: 100%|██████████| 257/257 [00:49<00:00,  5.18batch/s]\n",
      "Iterating eval graphs: 100%|██████████| 65/65 [00:09<00:00,  6.87batch/s]\n",
      "Epoch 64/200, Loss: 0.3152, Train Acc: 0.7241, Val Acc: 0.6873\n"
     ]
    },
    {
     "name": "stdout",
     "output_type": "stream",
     "text": [
      "Epoch 64/200, Loss: 0.3152, Train Acc: 0.7241, Val Acc: 0.6873\n"
     ]
    },
    {
     "name": "stderr",
     "output_type": "stream",
     "text": [
      "Epoch 65/200: 100%|██████████| 257/257 [00:49<00:00,  5.22batch/s]\n",
      "Iterating eval graphs: 100%|██████████| 65/65 [00:09<00:00,  6.94batch/s]\n",
      "Epoch 65/200, Loss: 0.3236, Train Acc: 0.7098, Val Acc: 0.6756\n"
     ]
    },
    {
     "name": "stdout",
     "output_type": "stream",
     "text": [
      "Epoch 65/200, Loss: 0.3236, Train Acc: 0.7098, Val Acc: 0.6756\n"
     ]
    },
    {
     "name": "stderr",
     "output_type": "stream",
     "text": [
      "Epoch 66/200: 100%|██████████| 257/257 [00:49<00:00,  5.22batch/s]\n",
      "Iterating eval graphs: 100%|██████████| 65/65 [00:09<00:00,  6.92batch/s]\n",
      "Epoch 66/200, Loss: 0.3087, Train Acc: 0.7247, Val Acc: 0.7048\n"
     ]
    },
    {
     "name": "stdout",
     "output_type": "stream",
     "text": [
      "Epoch 66/200, Loss: 0.3087, Train Acc: 0.7247, Val Acc: 0.7048\n"
     ]
    },
    {
     "name": "stderr",
     "output_type": "stream",
     "text": [
      "Epoch 67/200: 100%|██████████| 257/257 [00:49<00:00,  5.17batch/s]\n",
      "Iterating eval graphs: 100%|██████████| 65/65 [00:09<00:00,  6.67batch/s]\n",
      "Epoch 67/200, Loss: 0.3012, Train Acc: 0.7416, Val Acc: 0.7237\n"
     ]
    },
    {
     "name": "stdout",
     "output_type": "stream",
     "text": [
      "Epoch 67/200, Loss: 0.3012, Train Acc: 0.7416, Val Acc: 0.7237\n"
     ]
    },
    {
     "name": "stderr",
     "output_type": "stream",
     "text": [
      "Epoch 68/200: 100%|██████████| 257/257 [00:49<00:00,  5.15batch/s]\n",
      "Iterating eval graphs: 100%|██████████| 65/65 [00:09<00:00,  6.88batch/s]\n",
      "Epoch 68/200, Loss: 0.3026, Train Acc: 0.7363, Val Acc: 0.7106\n"
     ]
    },
    {
     "name": "stdout",
     "output_type": "stream",
     "text": [
      "Epoch 68/200, Loss: 0.3026, Train Acc: 0.7363, Val Acc: 0.7106\n"
     ]
    },
    {
     "name": "stderr",
     "output_type": "stream",
     "text": [
      "Epoch 69/200: 100%|██████████| 257/257 [00:49<00:00,  5.16batch/s]\n",
      "Iterating eval graphs: 100%|██████████| 65/65 [00:09<00:00,  6.87batch/s]\n",
      "Epoch 69/200, Loss: 0.3050, Train Acc: 0.7415, Val Acc: 0.7301\n"
     ]
    },
    {
     "name": "stdout",
     "output_type": "stream",
     "text": [
      "Epoch 69/200, Loss: 0.3050, Train Acc: 0.7415, Val Acc: 0.7301\n",
      "Best model updated and saved at /kaggle/working/purple-hippo-project/checkpoints/model_D_best.pth\n"
     ]
    },
    {
     "name": "stderr",
     "output_type": "stream",
     "text": [
      "Epoch 70/200: 100%|██████████| 257/257 [00:49<00:00,  5.22batch/s]\n",
      "Iterating eval graphs: 100%|██████████| 65/65 [00:09<00:00,  6.85batch/s]\n",
      "Epoch 70/200, Loss: 0.2991, Train Acc: 0.7417, Val Acc: 0.7315\n"
     ]
    },
    {
     "name": "stdout",
     "output_type": "stream",
     "text": [
      "Epoch 70/200, Loss: 0.2991, Train Acc: 0.7417, Val Acc: 0.7315\n",
      "Best model updated and saved at /kaggle/working/purple-hippo-project/checkpoints/model_D_best.pth\n"
     ]
    },
    {
     "name": "stderr",
     "output_type": "stream",
     "text": [
      "Epoch 71/200: 100%|██████████| 257/257 [00:49<00:00,  5.23batch/s]\n",
      "Iterating eval graphs: 100%|██████████| 65/65 [00:09<00:00,  6.89batch/s]\n",
      "Epoch 71/200, Loss: 0.3227, Train Acc: 0.7174, Val Acc: 0.7408\n"
     ]
    },
    {
     "name": "stdout",
     "output_type": "stream",
     "text": [
      "Epoch 71/200, Loss: 0.3227, Train Acc: 0.7174, Val Acc: 0.7408\n",
      "Best model updated and saved at /kaggle/working/purple-hippo-project/checkpoints/model_D_best.pth\n"
     ]
    },
    {
     "name": "stderr",
     "output_type": "stream",
     "text": [
      "Epoch 72/200: 100%|██████████| 257/257 [00:49<00:00,  5.20batch/s]\n",
      "Iterating eval graphs: 100%|██████████| 65/65 [00:09<00:00,  6.95batch/s]\n",
      "Epoch 72/200, Loss: 0.2789, Train Acc: 0.7494, Val Acc: 0.7378\n"
     ]
    },
    {
     "name": "stdout",
     "output_type": "stream",
     "text": [
      "Epoch 72/200, Loss: 0.2789, Train Acc: 0.7494, Val Acc: 0.7378\n"
     ]
    },
    {
     "name": "stderr",
     "output_type": "stream",
     "text": [
      "Epoch 73/200: 100%|██████████| 257/257 [00:49<00:00,  5.21batch/s]\n",
      "Iterating eval graphs: 100%|██████████| 65/65 [00:09<00:00,  6.96batch/s]\n",
      "Epoch 73/200, Loss: 0.2906, Train Acc: 0.7544, Val Acc: 0.7354\n"
     ]
    },
    {
     "name": "stdout",
     "output_type": "stream",
     "text": [
      "Epoch 73/200, Loss: 0.2906, Train Acc: 0.7544, Val Acc: 0.7354\n"
     ]
    },
    {
     "name": "stderr",
     "output_type": "stream",
     "text": [
      "Epoch 74/200: 100%|██████████| 257/257 [00:49<00:00,  5.22batch/s]\n",
      "Iterating eval graphs: 100%|██████████| 65/65 [00:09<00:00,  6.95batch/s]\n",
      "Epoch 74/200, Loss: 0.2923, Train Acc: 0.7504, Val Acc: 0.6863\n"
     ]
    },
    {
     "name": "stdout",
     "output_type": "stream",
     "text": [
      "Epoch 74/200, Loss: 0.2923, Train Acc: 0.7504, Val Acc: 0.6863\n"
     ]
    },
    {
     "name": "stderr",
     "output_type": "stream",
     "text": [
      "Epoch 75/200: 100%|██████████| 257/257 [00:49<00:00,  5.22batch/s]\n",
      "Iterating eval graphs: 100%|██████████| 65/65 [00:09<00:00,  6.95batch/s]\n",
      "Epoch 75/200, Loss: 0.3054, Train Acc: 0.7348, Val Acc: 0.7203\n"
     ]
    },
    {
     "name": "stdout",
     "output_type": "stream",
     "text": [
      "Epoch 75/200, Loss: 0.3054, Train Acc: 0.7348, Val Acc: 0.7203\n"
     ]
    },
    {
     "name": "stderr",
     "output_type": "stream",
     "text": [
      "Epoch 76/200: 100%|██████████| 257/257 [00:49<00:00,  5.23batch/s]\n",
      "Iterating eval graphs: 100%|██████████| 65/65 [00:09<00:00,  6.98batch/s]\n",
      "Epoch 76/200, Loss: 0.3015, Train Acc: 0.7339, Val Acc: 0.7164\n"
     ]
    },
    {
     "name": "stdout",
     "output_type": "stream",
     "text": [
      "Epoch 76/200, Loss: 0.3015, Train Acc: 0.7339, Val Acc: 0.7164\n"
     ]
    },
    {
     "name": "stderr",
     "output_type": "stream",
     "text": [
      "Epoch 77/200: 100%|██████████| 257/257 [00:49<00:00,  5.19batch/s]\n",
      "Iterating eval graphs: 100%|██████████| 65/65 [00:09<00:00,  6.82batch/s]\n",
      "Epoch 77/200, Loss: 0.2753, Train Acc: 0.7572, Val Acc: 0.7427\n"
     ]
    },
    {
     "name": "stdout",
     "output_type": "stream",
     "text": [
      "Epoch 77/200, Loss: 0.2753, Train Acc: 0.7572, Val Acc: 0.7427\n",
      "Best model updated and saved at /kaggle/working/purple-hippo-project/checkpoints/model_D_best.pth\n"
     ]
    },
    {
     "name": "stderr",
     "output_type": "stream",
     "text": [
      "Epoch 78/200: 100%|██████████| 257/257 [00:49<00:00,  5.15batch/s]\n",
      "Iterating eval graphs: 100%|██████████| 65/65 [00:09<00:00,  6.69batch/s]\n",
      "Epoch 78/200, Loss: 0.2784, Train Acc: 0.7448, Val Acc: 0.7481\n"
     ]
    },
    {
     "name": "stdout",
     "output_type": "stream",
     "text": [
      "Epoch 78/200, Loss: 0.2784, Train Acc: 0.7448, Val Acc: 0.7481\n",
      "Best model updated and saved at /kaggle/working/purple-hippo-project/checkpoints/model_D_best.pth\n"
     ]
    },
    {
     "name": "stderr",
     "output_type": "stream",
     "text": [
      "Epoch 79/200: 100%|██████████| 257/257 [00:49<00:00,  5.17batch/s]\n",
      "Iterating eval graphs: 100%|██████████| 65/65 [00:09<00:00,  6.83batch/s]\n",
      "Epoch 79/200, Loss: 0.2839, Train Acc: 0.7526, Val Acc: 0.7228\n"
     ]
    },
    {
     "name": "stdout",
     "output_type": "stream",
     "text": [
      "Epoch 79/200, Loss: 0.2839, Train Acc: 0.7526, Val Acc: 0.7228\n"
     ]
    },
    {
     "name": "stderr",
     "output_type": "stream",
     "text": [
      "Epoch 80/200: 100%|██████████| 257/257 [00:49<00:00,  5.18batch/s]\n",
      "Iterating eval graphs: 100%|██████████| 65/65 [00:09<00:00,  6.93batch/s]\n",
      "Epoch 80/200, Loss: 0.2758, Train Acc: 0.7588, Val Acc: 0.5968\n"
     ]
    },
    {
     "name": "stdout",
     "output_type": "stream",
     "text": [
      "Epoch 80/200, Loss: 0.2758, Train Acc: 0.7588, Val Acc: 0.5968\n",
      "Checkpoint saved at /kaggle/working/purple-hippo-project/checkpoints/model_D_best.pth_epoch_80.pth\n"
     ]
    },
    {
     "name": "stderr",
     "output_type": "stream",
     "text": [
      "Epoch 81/200: 100%|██████████| 257/257 [00:50<00:00,  5.13batch/s]\n",
      "Iterating eval graphs: 100%|██████████| 65/65 [00:09<00:00,  6.81batch/s]\n",
      "Epoch 81/200, Loss: 0.3040, Train Acc: 0.7230, Val Acc: 0.7286\n"
     ]
    },
    {
     "name": "stdout",
     "output_type": "stream",
     "text": [
      "Epoch 81/200, Loss: 0.3040, Train Acc: 0.7230, Val Acc: 0.7286\n"
     ]
    },
    {
     "name": "stderr",
     "output_type": "stream",
     "text": [
      "Epoch 82/200: 100%|██████████| 257/257 [00:50<00:00,  5.13batch/s]\n",
      "Iterating eval graphs: 100%|██████████| 65/65 [00:09<00:00,  6.74batch/s]\n",
      "Epoch 82/200, Loss: 0.2823, Train Acc: 0.7557, Val Acc: 0.7291\n"
     ]
    },
    {
     "name": "stdout",
     "output_type": "stream",
     "text": [
      "Epoch 82/200, Loss: 0.2823, Train Acc: 0.7557, Val Acc: 0.7291\n"
     ]
    },
    {
     "name": "stderr",
     "output_type": "stream",
     "text": [
      "Epoch 83/200: 100%|██████████| 257/257 [00:50<00:00,  5.14batch/s]\n",
      "Iterating eval graphs: 100%|██████████| 65/65 [00:09<00:00,  6.79batch/s]\n",
      "Epoch 83/200, Loss: 0.2739, Train Acc: 0.7636, Val Acc: 0.7369\n"
     ]
    },
    {
     "name": "stdout",
     "output_type": "stream",
     "text": [
      "Epoch 83/200, Loss: 0.2739, Train Acc: 0.7636, Val Acc: 0.7369\n"
     ]
    },
    {
     "name": "stderr",
     "output_type": "stream",
     "text": [
      "Epoch 84/200: 100%|██████████| 257/257 [00:49<00:00,  5.14batch/s]\n",
      "Iterating eval graphs: 100%|██████████| 65/65 [00:09<00:00,  6.81batch/s]\n",
      "Epoch 84/200, Loss: 0.2703, Train Acc: 0.7656, Val Acc: 0.6814\n"
     ]
    },
    {
     "name": "stdout",
     "output_type": "stream",
     "text": [
      "Epoch 84/200, Loss: 0.2703, Train Acc: 0.7656, Val Acc: 0.6814\n"
     ]
    },
    {
     "name": "stderr",
     "output_type": "stream",
     "text": [
      "Epoch 85/200: 100%|██████████| 257/257 [00:50<00:00,  5.14batch/s]\n",
      "Iterating eval graphs: 100%|██████████| 65/65 [00:09<00:00,  6.73batch/s]\n",
      "Epoch 85/200, Loss: 0.2719, Train Acc: 0.7601, Val Acc: 0.7344\n"
     ]
    },
    {
     "name": "stdout",
     "output_type": "stream",
     "text": [
      "Epoch 85/200, Loss: 0.2719, Train Acc: 0.7601, Val Acc: 0.7344\n"
     ]
    },
    {
     "name": "stderr",
     "output_type": "stream",
     "text": [
      "Epoch 86/200: 100%|██████████| 257/257 [00:50<00:00,  5.14batch/s]\n",
      "Iterating eval graphs: 100%|██████████| 65/65 [00:09<00:00,  6.75batch/s]\n",
      "Epoch 86/200, Loss: 0.2675, Train Acc: 0.7618, Val Acc: 0.7296\n"
     ]
    },
    {
     "name": "stdout",
     "output_type": "stream",
     "text": [
      "Epoch 86/200, Loss: 0.2675, Train Acc: 0.7618, Val Acc: 0.7296\n"
     ]
    },
    {
     "name": "stderr",
     "output_type": "stream",
     "text": [
      "Epoch 87/200: 100%|██████████| 257/257 [00:49<00:00,  5.14batch/s]\n",
      "Iterating eval graphs: 100%|██████████| 65/65 [00:09<00:00,  6.76batch/s]\n",
      "Epoch 87/200, Loss: 0.2648, Train Acc: 0.7713, Val Acc: 0.7422\n"
     ]
    },
    {
     "name": "stdout",
     "output_type": "stream",
     "text": [
      "Epoch 87/200, Loss: 0.2648, Train Acc: 0.7713, Val Acc: 0.7422\n"
     ]
    },
    {
     "name": "stderr",
     "output_type": "stream",
     "text": [
      "Epoch 88/200: 100%|██████████| 257/257 [00:50<00:00,  5.13batch/s]\n",
      "Iterating eval graphs: 100%|██████████| 65/65 [00:09<00:00,  6.75batch/s]\n",
      "Epoch 88/200, Loss: 0.2685, Train Acc: 0.7633, Val Acc: 0.7412\n"
     ]
    },
    {
     "name": "stdout",
     "output_type": "stream",
     "text": [
      "Epoch 88/200, Loss: 0.2685, Train Acc: 0.7633, Val Acc: 0.7412\n"
     ]
    },
    {
     "name": "stderr",
     "output_type": "stream",
     "text": [
      "Epoch 89/200: 100%|██████████| 257/257 [00:50<00:00,  5.14batch/s]\n",
      "Iterating eval graphs: 100%|██████████| 65/65 [00:09<00:00,  6.81batch/s]\n",
      "Epoch 89/200, Loss: 0.2662, Train Acc: 0.7646, Val Acc: 0.7490\n"
     ]
    },
    {
     "name": "stdout",
     "output_type": "stream",
     "text": [
      "Epoch 89/200, Loss: 0.2662, Train Acc: 0.7646, Val Acc: 0.7490\n",
      "Best model updated and saved at /kaggle/working/purple-hippo-project/checkpoints/model_D_best.pth\n"
     ]
    },
    {
     "name": "stderr",
     "output_type": "stream",
     "text": [
      "Epoch 90/200: 100%|██████████| 257/257 [00:50<00:00,  5.14batch/s]\n",
      "Iterating eval graphs: 100%|██████████| 65/65 [00:09<00:00,  6.82batch/s]\n",
      "Epoch 90/200, Loss: 0.2816, Train Acc: 0.7491, Val Acc: 0.7257\n"
     ]
    },
    {
     "name": "stdout",
     "output_type": "stream",
     "text": [
      "Epoch 90/200, Loss: 0.2816, Train Acc: 0.7491, Val Acc: 0.7257\n"
     ]
    },
    {
     "name": "stderr",
     "output_type": "stream",
     "text": [
      "Epoch 91/200: 100%|██████████| 257/257 [00:50<00:00,  5.13batch/s]\n",
      "Iterating eval graphs: 100%|██████████| 65/65 [00:09<00:00,  6.84batch/s]\n",
      "Epoch 91/200, Loss: 0.2665, Train Acc: 0.7634, Val Acc: 0.7189\n"
     ]
    },
    {
     "name": "stdout",
     "output_type": "stream",
     "text": [
      "Epoch 91/200, Loss: 0.2665, Train Acc: 0.7634, Val Acc: 0.7189\n"
     ]
    },
    {
     "name": "stderr",
     "output_type": "stream",
     "text": [
      "Epoch 92/200: 100%|██████████| 257/257 [00:50<00:00,  5.13batch/s]\n",
      "Iterating eval graphs: 100%|██████████| 65/65 [00:09<00:00,  6.75batch/s]\n",
      "Epoch 92/200, Loss: 0.2614, Train Acc: 0.7731, Val Acc: 0.7164\n"
     ]
    },
    {
     "name": "stdout",
     "output_type": "stream",
     "text": [
      "Epoch 92/200, Loss: 0.2614, Train Acc: 0.7731, Val Acc: 0.7164\n"
     ]
    },
    {
     "name": "stderr",
     "output_type": "stream",
     "text": [
      "Epoch 93/200: 100%|██████████| 257/257 [00:50<00:00,  5.13batch/s]\n",
      "Iterating eval graphs: 100%|██████████| 65/65 [00:09<00:00,  6.80batch/s]\n",
      "Epoch 93/200, Loss: 0.2605, Train Acc: 0.7682, Val Acc: 0.7203\n"
     ]
    },
    {
     "name": "stdout",
     "output_type": "stream",
     "text": [
      "Epoch 93/200, Loss: 0.2605, Train Acc: 0.7682, Val Acc: 0.7203\n"
     ]
    },
    {
     "name": "stderr",
     "output_type": "stream",
     "text": [
      "Epoch 94/200: 100%|██████████| 257/257 [00:49<00:00,  5.14batch/s]\n",
      "Iterating eval graphs: 100%|██████████| 65/65 [00:09<00:00,  6.76batch/s]\n",
      "Epoch 94/200, Loss: 0.2514, Train Acc: 0.7794, Val Acc: 0.7106\n"
     ]
    },
    {
     "name": "stdout",
     "output_type": "stream",
     "text": [
      "Epoch 94/200, Loss: 0.2514, Train Acc: 0.7794, Val Acc: 0.7106\n"
     ]
    },
    {
     "name": "stderr",
     "output_type": "stream",
     "text": [
      "Epoch 95/200: 100%|██████████| 257/257 [00:49<00:00,  5.14batch/s]\n",
      "Iterating eval graphs: 100%|██████████| 65/65 [00:09<00:00,  6.71batch/s]\n",
      "Epoch 95/200, Loss: 0.2600, Train Acc: 0.7726, Val Acc: 0.6440\n"
     ]
    },
    {
     "name": "stdout",
     "output_type": "stream",
     "text": [
      "Epoch 95/200, Loss: 0.2600, Train Acc: 0.7726, Val Acc: 0.6440\n"
     ]
    },
    {
     "name": "stderr",
     "output_type": "stream",
     "text": [
      "Epoch 96/200: 100%|██████████| 257/257 [00:50<00:00,  5.13batch/s]\n",
      "Iterating eval graphs: 100%|██████████| 65/65 [00:09<00:00,  6.74batch/s]\n",
      "Epoch 96/200, Loss: 0.2788, Train Acc: 0.7515, Val Acc: 0.6221\n"
     ]
    },
    {
     "name": "stdout",
     "output_type": "stream",
     "text": [
      "Epoch 96/200, Loss: 0.2788, Train Acc: 0.7515, Val Acc: 0.6221\n"
     ]
    },
    {
     "name": "stderr",
     "output_type": "stream",
     "text": [
      "Epoch 97/200: 100%|██████████| 257/257 [00:50<00:00,  5.14batch/s]\n",
      "Iterating eval graphs: 100%|██████████| 65/65 [00:09<00:00,  6.83batch/s]\n",
      "Epoch 97/200, Loss: 0.2570, Train Acc: 0.7697, Val Acc: 0.7403\n"
     ]
    },
    {
     "name": "stdout",
     "output_type": "stream",
     "text": [
      "Epoch 97/200, Loss: 0.2570, Train Acc: 0.7697, Val Acc: 0.7403\n"
     ]
    },
    {
     "name": "stderr",
     "output_type": "stream",
     "text": [
      "Epoch 98/200: 100%|██████████| 257/257 [00:50<00:00,  5.13batch/s]\n",
      "Iterating eval graphs: 100%|██████████| 65/65 [00:09<00:00,  6.82batch/s]\n",
      "Epoch 98/200, Loss: 0.2507, Train Acc: 0.7860, Val Acc: 0.6824\n"
     ]
    },
    {
     "name": "stdout",
     "output_type": "stream",
     "text": [
      "Epoch 98/200, Loss: 0.2507, Train Acc: 0.7860, Val Acc: 0.6824\n"
     ]
    },
    {
     "name": "stderr",
     "output_type": "stream",
     "text": [
      "Epoch 99/200: 100%|██████████| 257/257 [00:49<00:00,  5.19batch/s]\n",
      "Iterating eval graphs: 100%|██████████| 65/65 [00:09<00:00,  6.96batch/s]\n",
      "Epoch 99/200, Loss: 0.2923, Train Acc: 0.7377, Val Acc: 0.7111\n"
     ]
    },
    {
     "name": "stdout",
     "output_type": "stream",
     "text": [
      "Epoch 99/200, Loss: 0.2923, Train Acc: 0.7377, Val Acc: 0.7111\n"
     ]
    },
    {
     "name": "stderr",
     "output_type": "stream",
     "text": [
      "Epoch 100/200: 100%|██████████| 257/257 [00:49<00:00,  5.22batch/s]\n",
      "Iterating eval graphs: 100%|██████████| 65/65 [00:09<00:00,  6.70batch/s]\n",
      "Epoch 100/200, Loss: 0.2635, Train Acc: 0.7705, Val Acc: 0.7257\n"
     ]
    },
    {
     "name": "stdout",
     "output_type": "stream",
     "text": [
      "Epoch 100/200, Loss: 0.2635, Train Acc: 0.7705, Val Acc: 0.7257\n"
     ]
    },
    {
     "name": "stderr",
     "output_type": "stream",
     "text": [
      "Epoch 101/200: 100%|██████████| 257/257 [00:49<00:00,  5.17batch/s]\n",
      "Iterating eval graphs: 100%|██████████| 65/65 [00:09<00:00,  6.83batch/s]\n",
      "Epoch 101/200, Loss: 0.2529, Train Acc: 0.7820, Val Acc: 0.7257\n"
     ]
    },
    {
     "name": "stdout",
     "output_type": "stream",
     "text": [
      "Epoch 101/200, Loss: 0.2529, Train Acc: 0.7820, Val Acc: 0.7257\n"
     ]
    },
    {
     "name": "stderr",
     "output_type": "stream",
     "text": [
      "Epoch 102/200: 100%|██████████| 257/257 [00:49<00:00,  5.17batch/s]\n",
      "Iterating eval graphs: 100%|██████████| 65/65 [00:09<00:00,  6.86batch/s]\n",
      "Epoch 102/200, Loss: 0.2587, Train Acc: 0.7723, Val Acc: 0.7257\n"
     ]
    },
    {
     "name": "stdout",
     "output_type": "stream",
     "text": [
      "Epoch 102/200, Loss: 0.2587, Train Acc: 0.7723, Val Acc: 0.7257\n"
     ]
    },
    {
     "name": "stderr",
     "output_type": "stream",
     "text": [
      "Epoch 103/200: 100%|██████████| 257/257 [00:49<00:00,  5.14batch/s]\n",
      "Iterating eval graphs: 100%|██████████| 65/65 [00:09<00:00,  6.90batch/s]\n",
      "Epoch 103/200, Loss: 0.2538, Train Acc: 0.7755, Val Acc: 0.7106\n"
     ]
    },
    {
     "name": "stdout",
     "output_type": "stream",
     "text": [
      "Epoch 103/200, Loss: 0.2538, Train Acc: 0.7755, Val Acc: 0.7106\n"
     ]
    },
    {
     "name": "stderr",
     "output_type": "stream",
     "text": [
      "Epoch 104/200: 100%|██████████| 257/257 [00:49<00:00,  5.22batch/s]\n",
      "Iterating eval graphs: 100%|██████████| 65/65 [00:09<00:00,  6.91batch/s]\n",
      "Epoch 104/200, Loss: 0.2402, Train Acc: 0.7904, Val Acc: 0.7164\n"
     ]
    },
    {
     "name": "stdout",
     "output_type": "stream",
     "text": [
      "Epoch 104/200, Loss: 0.2402, Train Acc: 0.7904, Val Acc: 0.7164\n"
     ]
    },
    {
     "name": "stderr",
     "output_type": "stream",
     "text": [
      "Epoch 105/200: 100%|██████████| 257/257 [00:49<00:00,  5.21batch/s]\n",
      "Iterating eval graphs: 100%|██████████| 65/65 [00:09<00:00,  6.84batch/s]\n",
      "Epoch 105/200, Loss: 0.2424, Train Acc: 0.7902, Val Acc: 0.7223\n"
     ]
    },
    {
     "name": "stdout",
     "output_type": "stream",
     "text": [
      "Epoch 105/200, Loss: 0.2424, Train Acc: 0.7902, Val Acc: 0.7223\n"
     ]
    },
    {
     "name": "stderr",
     "output_type": "stream",
     "text": [
      "Epoch 106/200: 100%|██████████| 257/257 [00:49<00:00,  5.20batch/s]\n",
      "Iterating eval graphs: 100%|██████████| 65/65 [00:09<00:00,  6.92batch/s]\n",
      "Epoch 106/200, Loss: 0.2369, Train Acc: 0.7932, Val Acc: 0.7111\n"
     ]
    },
    {
     "name": "stdout",
     "output_type": "stream",
     "text": [
      "Epoch 106/200, Loss: 0.2369, Train Acc: 0.7932, Val Acc: 0.7111\n"
     ]
    },
    {
     "name": "stderr",
     "output_type": "stream",
     "text": [
      "Epoch 107/200: 100%|██████████| 257/257 [00:49<00:00,  5.20batch/s]\n",
      "Iterating eval graphs: 100%|██████████| 65/65 [00:09<00:00,  6.84batch/s]\n",
      "Epoch 107/200, Loss: 0.2442, Train Acc: 0.7911, Val Acc: 0.7354\n"
     ]
    },
    {
     "name": "stdout",
     "output_type": "stream",
     "text": [
      "Epoch 107/200, Loss: 0.2442, Train Acc: 0.7911, Val Acc: 0.7354\n"
     ]
    },
    {
     "name": "stderr",
     "output_type": "stream",
     "text": [
      "Epoch 108/200: 100%|██████████| 257/257 [00:49<00:00,  5.20batch/s]\n",
      "Iterating eval graphs: 100%|██████████| 65/65 [00:09<00:00,  6.87batch/s]\n",
      "Epoch 108/200, Loss: 0.2381, Train Acc: 0.7955, Val Acc: 0.7393\n"
     ]
    },
    {
     "name": "stdout",
     "output_type": "stream",
     "text": [
      "Epoch 108/200, Loss: 0.2381, Train Acc: 0.7955, Val Acc: 0.7393\n"
     ]
    },
    {
     "name": "stderr",
     "output_type": "stream",
     "text": [
      "Epoch 109/200: 100%|██████████| 257/257 [00:49<00:00,  5.17batch/s]\n",
      "Iterating eval graphs: 100%|██████████| 65/65 [00:09<00:00,  6.80batch/s]\n",
      "Epoch 109/200, Loss: 0.2295, Train Acc: 0.7943, Val Acc: 0.7276\n"
     ]
    },
    {
     "name": "stdout",
     "output_type": "stream",
     "text": [
      "Epoch 109/200, Loss: 0.2295, Train Acc: 0.7943, Val Acc: 0.7276\n"
     ]
    },
    {
     "name": "stderr",
     "output_type": "stream",
     "text": [
      "Epoch 110/200: 100%|██████████| 257/257 [00:49<00:00,  5.17batch/s]\n",
      "Iterating eval graphs: 100%|██████████| 65/65 [00:09<00:00,  6.79batch/s]\n",
      "Epoch 110/200, Loss: 0.2332, Train Acc: 0.7934, Val Acc: 0.7228\n"
     ]
    },
    {
     "name": "stdout",
     "output_type": "stream",
     "text": [
      "Epoch 110/200, Loss: 0.2332, Train Acc: 0.7934, Val Acc: 0.7228\n"
     ]
    },
    {
     "name": "stderr",
     "output_type": "stream",
     "text": [
      "Epoch 111/200: 100%|██████████| 257/257 [00:49<00:00,  5.17batch/s]\n",
      "Iterating eval graphs: 100%|██████████| 65/65 [00:09<00:00,  6.83batch/s]\n",
      "Epoch 111/200, Loss: 0.2292, Train Acc: 0.7982, Val Acc: 0.7150\n"
     ]
    },
    {
     "name": "stdout",
     "output_type": "stream",
     "text": [
      "Epoch 111/200, Loss: 0.2292, Train Acc: 0.7982, Val Acc: 0.7150\n"
     ]
    },
    {
     "name": "stderr",
     "output_type": "stream",
     "text": [
      "Epoch 112/200: 100%|██████████| 257/257 [00:49<00:00,  5.18batch/s]\n",
      "Iterating eval graphs: 100%|██████████| 65/65 [00:09<00:00,  6.87batch/s]\n",
      "Epoch 112/200, Loss: 0.2251, Train Acc: 0.7971, Val Acc: 0.7155\n"
     ]
    },
    {
     "name": "stdout",
     "output_type": "stream",
     "text": [
      "Epoch 112/200, Loss: 0.2251, Train Acc: 0.7971, Val Acc: 0.7155\n"
     ]
    },
    {
     "name": "stderr",
     "output_type": "stream",
     "text": [
      "Epoch 113/200: 100%|██████████| 257/257 [00:49<00:00,  5.18batch/s]\n",
      "Iterating eval graphs: 100%|██████████| 65/65 [00:09<00:00,  6.87batch/s]\n",
      "Epoch 113/200, Loss: 0.2317, Train Acc: 0.7947, Val Acc: 0.7218\n"
     ]
    },
    {
     "name": "stdout",
     "output_type": "stream",
     "text": [
      "Epoch 113/200, Loss: 0.2317, Train Acc: 0.7947, Val Acc: 0.7218\n"
     ]
    },
    {
     "name": "stderr",
     "output_type": "stream",
     "text": [
      "Epoch 114/200: 100%|██████████| 257/257 [00:49<00:00,  5.15batch/s]\n",
      "Iterating eval graphs: 100%|██████████| 65/65 [00:09<00:00,  6.86batch/s]\n",
      "Epoch 114/200, Loss: 0.2280, Train Acc: 0.8040, Val Acc: 0.6946\n"
     ]
    },
    {
     "name": "stdout",
     "output_type": "stream",
     "text": [
      "Epoch 114/200, Loss: 0.2280, Train Acc: 0.8040, Val Acc: 0.6946\n"
     ]
    },
    {
     "name": "stderr",
     "output_type": "stream",
     "text": [
      "Epoch 115/200: 100%|██████████| 257/257 [00:49<00:00,  5.18batch/s]\n",
      "Iterating eval graphs: 100%|██████████| 65/65 [00:09<00:00,  6.86batch/s]\n",
      "Epoch 115/200, Loss: 0.2234, Train Acc: 0.8084, Val Acc: 0.6902\n"
     ]
    },
    {
     "name": "stdout",
     "output_type": "stream",
     "text": [
      "Epoch 115/200, Loss: 0.2234, Train Acc: 0.8084, Val Acc: 0.6902\n"
     ]
    },
    {
     "name": "stderr",
     "output_type": "stream",
     "text": [
      "Epoch 116/200: 100%|██████████| 257/257 [00:49<00:00,  5.18batch/s]\n",
      "Iterating eval graphs: 100%|██████████| 65/65 [00:09<00:00,  6.89batch/s]\n",
      "Epoch 116/200, Loss: 0.2213, Train Acc: 0.8120, Val Acc: 0.6965\n"
     ]
    },
    {
     "name": "stdout",
     "output_type": "stream",
     "text": [
      "Epoch 116/200, Loss: 0.2213, Train Acc: 0.8120, Val Acc: 0.6965\n"
     ]
    },
    {
     "name": "stderr",
     "output_type": "stream",
     "text": [
      "Epoch 117/200: 100%|██████████| 257/257 [00:49<00:00,  5.18batch/s]\n",
      "Iterating eval graphs: 100%|██████████| 65/65 [00:09<00:00,  6.92batch/s]\n",
      "Epoch 117/200, Loss: 0.2237, Train Acc: 0.8031, Val Acc: 0.7062\n"
     ]
    },
    {
     "name": "stdout",
     "output_type": "stream",
     "text": [
      "Epoch 117/200, Loss: 0.2237, Train Acc: 0.8031, Val Acc: 0.7062\n"
     ]
    },
    {
     "name": "stderr",
     "output_type": "stream",
     "text": [
      "Epoch 118/200: 100%|██████████| 257/257 [00:49<00:00,  5.18batch/s]\n",
      "Iterating eval graphs: 100%|██████████| 65/65 [00:09<00:00,  6.88batch/s]\n",
      "Epoch 118/200, Loss: 0.2224, Train Acc: 0.8053, Val Acc: 0.7281\n"
     ]
    },
    {
     "name": "stdout",
     "output_type": "stream",
     "text": [
      "Epoch 118/200, Loss: 0.2224, Train Acc: 0.8053, Val Acc: 0.7281\n"
     ]
    },
    {
     "name": "stderr",
     "output_type": "stream",
     "text": [
      "Epoch 119/200: 100%|██████████| 257/257 [00:49<00:00,  5.18batch/s]\n",
      "Iterating eval graphs: 100%|██████████| 65/65 [00:09<00:00,  6.80batch/s]\n",
      "Epoch 119/200, Loss: 0.2234, Train Acc: 0.8124, Val Acc: 0.7296\n"
     ]
    },
    {
     "name": "stdout",
     "output_type": "stream",
     "text": [
      "Epoch 119/200, Loss: 0.2234, Train Acc: 0.8124, Val Acc: 0.7296\n"
     ]
    },
    {
     "name": "stderr",
     "output_type": "stream",
     "text": [
      "Epoch 120/200: 100%|██████████| 257/257 [00:49<00:00,  5.19batch/s]\n",
      "Iterating eval graphs: 100%|██████████| 65/65 [00:09<00:00,  6.84batch/s]\n",
      "Epoch 120/200, Loss: 0.2148, Train Acc: 0.8097, Val Acc: 0.7111\n"
     ]
    },
    {
     "name": "stdout",
     "output_type": "stream",
     "text": [
      "Epoch 120/200, Loss: 0.2148, Train Acc: 0.8097, Val Acc: 0.7111\n",
      "Checkpoint saved at /kaggle/working/purple-hippo-project/checkpoints/model_D_best.pth_epoch_120.pth\n"
     ]
    },
    {
     "name": "stderr",
     "output_type": "stream",
     "text": [
      "Epoch 121/200: 100%|██████████| 257/257 [00:49<00:00,  5.18batch/s]\n",
      "Iterating eval graphs: 100%|██████████| 65/65 [00:09<00:00,  6.90batch/s]\n",
      "Epoch 121/200, Loss: 0.2159, Train Acc: 0.8098, Val Acc: 0.7150\n"
     ]
    },
    {
     "name": "stdout",
     "output_type": "stream",
     "text": [
      "Epoch 121/200, Loss: 0.2159, Train Acc: 0.8098, Val Acc: 0.7150\n"
     ]
    },
    {
     "name": "stderr",
     "output_type": "stream",
     "text": [
      "Epoch 122/200: 100%|██████████| 257/257 [00:49<00:00,  5.19batch/s]\n",
      "Iterating eval graphs: 100%|██████████| 65/65 [00:09<00:00,  6.88batch/s]\n",
      "Epoch 122/200, Loss: 0.2088, Train Acc: 0.8172, Val Acc: 0.7033\n"
     ]
    },
    {
     "name": "stdout",
     "output_type": "stream",
     "text": [
      "Epoch 122/200, Loss: 0.2088, Train Acc: 0.8172, Val Acc: 0.7033\n"
     ]
    },
    {
     "name": "stderr",
     "output_type": "stream",
     "text": [
      "Epoch 123/200: 100%|██████████| 257/257 [00:49<00:00,  5.19batch/s]\n",
      "Iterating eval graphs: 100%|██████████| 65/65 [00:09<00:00,  6.92batch/s]\n",
      "Epoch 123/200, Loss: 0.2041, Train Acc: 0.8153, Val Acc: 0.7267\n"
     ]
    },
    {
     "name": "stdout",
     "output_type": "stream",
     "text": [
      "Epoch 123/200, Loss: 0.2041, Train Acc: 0.8153, Val Acc: 0.7267\n"
     ]
    },
    {
     "name": "stderr",
     "output_type": "stream",
     "text": [
      "Epoch 124/200: 100%|██████████| 257/257 [00:50<00:00,  5.13batch/s]\n",
      "Iterating eval graphs: 100%|██████████| 65/65 [00:09<00:00,  6.90batch/s]\n",
      "Epoch 124/200, Loss: 0.2033, Train Acc: 0.8183, Val Acc: 0.6970\n"
     ]
    },
    {
     "name": "stdout",
     "output_type": "stream",
     "text": [
      "Epoch 124/200, Loss: 0.2033, Train Acc: 0.8183, Val Acc: 0.6970\n"
     ]
    },
    {
     "name": "stderr",
     "output_type": "stream",
     "text": [
      "Epoch 125/200: 100%|██████████| 257/257 [00:50<00:00,  5.07batch/s]\n",
      "Iterating eval graphs: 100%|██████████| 65/65 [00:09<00:00,  6.79batch/s]\n",
      "Epoch 125/200, Loss: 0.2031, Train Acc: 0.8198, Val Acc: 0.7505\n"
     ]
    },
    {
     "name": "stdout",
     "output_type": "stream",
     "text": [
      "Epoch 125/200, Loss: 0.2031, Train Acc: 0.8198, Val Acc: 0.7505\n",
      "Best model updated and saved at /kaggle/working/purple-hippo-project/checkpoints/model_D_best.pth\n"
     ]
    },
    {
     "name": "stderr",
     "output_type": "stream",
     "text": [
      "Epoch 126/200: 100%|██████████| 257/257 [00:50<00:00,  5.13batch/s]\n",
      "Iterating eval graphs: 100%|██████████| 65/65 [00:09<00:00,  6.67batch/s]\n",
      "Epoch 126/200, Loss: 0.1963, Train Acc: 0.8242, Val Acc: 0.7223\n"
     ]
    },
    {
     "name": "stdout",
     "output_type": "stream",
     "text": [
      "Epoch 126/200, Loss: 0.1963, Train Acc: 0.8242, Val Acc: 0.7223\n"
     ]
    },
    {
     "name": "stderr",
     "output_type": "stream",
     "text": [
      "Epoch 127/200: 100%|██████████| 257/257 [00:49<00:00,  5.18batch/s]\n",
      "Iterating eval graphs: 100%|██████████| 65/65 [00:09<00:00,  6.82batch/s]\n",
      "Epoch 127/200, Loss: 0.1933, Train Acc: 0.8276, Val Acc: 0.7335\n"
     ]
    },
    {
     "name": "stdout",
     "output_type": "stream",
     "text": [
      "Epoch 127/200, Loss: 0.1933, Train Acc: 0.8276, Val Acc: 0.7335\n"
     ]
    },
    {
     "name": "stderr",
     "output_type": "stream",
     "text": [
      "Epoch 128/200: 100%|██████████| 257/257 [00:49<00:00,  5.17batch/s]\n",
      "Iterating eval graphs: 100%|██████████| 65/65 [00:09<00:00,  6.89batch/s]\n",
      "Epoch 128/200, Loss: 0.2027, Train Acc: 0.8253, Val Acc: 0.6581\n"
     ]
    },
    {
     "name": "stdout",
     "output_type": "stream",
     "text": [
      "Epoch 128/200, Loss: 0.2027, Train Acc: 0.8253, Val Acc: 0.6581\n",
      "Stopping early as no improvement has been observed.\n",
      "Early stopping at epoch 127\n"
     ]
    }
   ],
   "source": [
    "if num_checkpoints > 1:\n",
    "    checkpoint_intervals = [int((i + 1) * num_epochs / num_checkpoints) for i in range(num_checkpoints)]\n",
    "else:\n",
    "    checkpoint_intervals = [num_epochs]\n",
    "# Training loop\n",
    "for epoch in range(num_epochs):\n",
    "    model.train()\n",
    "    total_loss = 0\n",
    "    correct = 0\n",
    "    total = 0\n",
    "    idx = 0\n",
    "    with tqdm(train_loader, desc=f\"Epoch {epoch+1}/{num_epochs}\", unit=\"batch\") as progress:\n",
    "        for batch_idx, data in enumerate(progress):\n",
    "            data = data.to(device)\n",
    "            label = data.y.long().to(device)\n",
    "            batch_size = data.y.size(0)\n",
    "            \n",
    "            # Get model outputs\n",
    "            f_x_i, phi_x_i = model(data)\n",
    "            \n",
    "            if args.baseline_mode == 3:\n",
    "                # NCOD loss\n",
    "                y_one_hot = F.one_hot(label, num_classes).float()\n",
    "                current_indices = torch.arange(idx, idx + batch_size, device=device)\n",
    "                \n",
    "                loss = criterion(current_indices, f_x_i, y_one_hot, phi_x_i, batch_idx, epoch)\n",
    "                \n",
    "                # Optimization step\n",
    "                optimizer.zero_grad()\n",
    "                if optimizer_u is not None:\n",
    "                    optimizer_u.zero_grad()\n",
    "                \n",
    "                loss.backward()\n",
    "                optimizer.step()\n",
    "                if optimizer_u is not None:\n",
    "                    optimizer_u.step()\n",
    "                    \n",
    "            else:\n",
    "                # Standard cross-entropy loss\n",
    "                loss = criterion(f_x_i, label)\n",
    "                \n",
    "                optimizer.zero_grad()\n",
    "                loss.backward()\n",
    "                optimizer.step()\n",
    "            # Statistics\n",
    "            total_loss += loss.item()\n",
    "            pred = f_x_i.argmax(dim=1)\n",
    "            correct += (pred == label).sum().item()\n",
    "            total += label.size(0)\n",
    "            idx += batch_size\n",
    "\n",
    "    # Calculate epoch metrics\n",
    "    train_loss = total_loss / len(train_loader)\n",
    "    train_acc = correct / total\n",
    "    \n",
    "    # Validation\n",
    "    val_loss, val_acc = evaluate(val_loader, model, device, calculate_accuracy=True)\n",
    "    \n",
    "    # Logging\n",
    "    print(f\"Epoch {epoch + 1}/{num_epochs}, Loss: {train_loss:.4f}, Train Acc: {train_acc:.4f}, Val Acc: {val_acc:.4f}\")\n",
    "    if hasattr(logging, 'info'):\n",
    "        logging.info(f\"Epoch {epoch + 1}/{num_epochs}, Loss: {train_loss:.4f}, Train Acc: {train_acc:.4f}, Val Acc: {val_acc:.4f}\")\n",
    "    \n",
    "    # Store metrics\n",
    "    train_losses.append(train_loss)\n",
    "    train_accuracies.append(train_acc)\n",
    "    val_losses.append(val_loss)\n",
    "    val_accuracies.append(val_acc)\n",
    "    \n",
    "    # Save best model\n",
    "    if val_acc > best_val_accuracy:\n",
    "        best_val_accuracy = val_acc\n",
    "        torch.save(model.state_dict(), checkpoint_path)\n",
    "        print(f\"Best model updated and saved at {checkpoint_path}\")\n",
    "    \n",
    "    # Save checkpoints\n",
    "    if (epoch + 1) in checkpoint_intervals:\n",
    "        checkpoint_file = f\"{checkpoint_path}_epoch_{epoch + 1}.pth\"\n",
    "        torch.save(model.state_dict(), checkpoint_file)\n",
    "        print(f\"Checkpoint saved at {checkpoint_file}\")\n",
    "    # Reset beginning flag for NCOD\n",
    "    if args.baseline_mode == 3:\n",
    "        criterion.beginning = True\n",
    "        \n",
    "    # Early stopping\n",
    "    early_stopping.check_early_stop(val_loss)\n",
    "    if early_stopping.stop_training:\n",
    "        print(f\"Early stopping at epoch {epoch}\")\n",
    "        break"
   ]
  },
  {
   "cell_type": "code",
   "execution_count": 25,
   "id": "2d09a027",
   "metadata": {
    "execution": {
     "iopub.execute_input": "2025-05-30T13:57:44.873841Z",
     "iopub.status.busy": "2025-05-30T13:57:44.873513Z",
     "iopub.status.idle": "2025-05-30T13:57:45.663755Z",
     "shell.execute_reply": "2025-05-30T13:57:45.663057Z"
    },
    "papermill": {
     "duration": 2.862457,
     "end_time": "2025-05-30T13:57:45.665287",
     "exception": false,
     "start_time": "2025-05-30T13:57:42.802830",
     "status": "completed"
    },
    "tags": []
   },
   "outputs": [],
   "source": [
    "plot_training_progress(train_losses, train_accuracies, os.path.join(logs_folder, \"plots\"))\n",
    "plot_training_progress(val_losses, val_accuracies, os.path.join(logs_folder, \"plotsVal\"))"
   ]
  },
  {
   "cell_type": "code",
   "execution_count": 26,
   "id": "6f12a9ec",
   "metadata": {
    "execution": {
     "iopub.execute_input": "2025-05-30T13:57:49.710319Z",
     "iopub.status.busy": "2025-05-30T13:57:49.709995Z",
     "iopub.status.idle": "2025-05-30T13:57:59.864122Z",
     "shell.execute_reply": "2025-05-30T13:57:59.863442Z"
    },
    "papermill": {
     "duration": 12.175968,
     "end_time": "2025-05-30T13:57:59.865461",
     "exception": false,
     "start_time": "2025-05-30T13:57:47.689493",
     "status": "completed"
    },
    "tags": []
   },
   "outputs": [
    {
     "data": {
      "text/plain": [
       "13518"
      ]
     },
     "execution_count": 26,
     "metadata": {},
     "output_type": "execute_result"
    }
   ],
   "source": [
    "import gc\n",
    "del train_dataset\n",
    "del train_loader\n",
    "del full_dataset\n",
    "del val_dataset\n",
    "del val_loader\n",
    "gc.collect()"
   ]
  },
  {
   "cell_type": "code",
   "execution_count": 27,
   "id": "476577b5",
   "metadata": {
    "execution": {
     "iopub.execute_input": "2025-05-30T13:58:03.959153Z",
     "iopub.status.busy": "2025-05-30T13:58:03.958872Z",
     "iopub.status.idle": "2025-05-30T13:58:29.686297Z",
     "shell.execute_reply": "2025-05-30T13:58:29.685334Z"
    },
    "id": "xsXZIj4Mdu3I",
    "papermill": {
     "duration": 27.805678,
     "end_time": "2025-05-30T13:58:29.687954",
     "exception": false,
     "start_time": "2025-05-30T13:58:01.882276",
     "status": "completed"
    },
    "tags": []
   },
   "outputs": [],
   "source": [
    "test_dataset = GraphDataset(args.test_path, transform=add_zeros)\n",
    "test_loader = DataLoader(test_dataset, batch_size=args.batch_size, shuffle=False)\n",
    "    "
   ]
  },
  {
   "cell_type": "code",
   "execution_count": 28,
   "id": "e683d314",
   "metadata": {
    "execution": {
     "iopub.execute_input": "2025-05-30T13:58:33.735018Z",
     "iopub.status.busy": "2025-05-30T13:58:33.734722Z",
     "iopub.status.idle": "2025-05-30T13:58:43.939194Z",
     "shell.execute_reply": "2025-05-30T13:58:43.938183Z"
    },
    "id": "x1OnGq_nCmTr",
    "papermill": {
     "duration": 12.249433,
     "end_time": "2025-05-30T13:58:43.940526",
     "exception": false,
     "start_time": "2025-05-30T13:58:31.691093",
     "status": "completed"
    },
    "tags": []
   },
   "outputs": [
    {
     "name": "stderr",
     "output_type": "stream",
     "text": [
      "<ipython-input-28-10583d8b995c>:1: FutureWarning: You are using `torch.load` with `weights_only=False` (the current default value), which uses the default pickle module implicitly. It is possible to construct malicious pickle data which will execute arbitrary code during unpickling (See https://github.com/pytorch/pytorch/blob/main/SECURITY.md#untrusted-models for more details). In a future release, the default value for `weights_only` will be flipped to `True`. This limits the functions that could be executed during unpickling. Arbitrary objects will no longer be allowed to be loaded via this mode unless they are explicitly allowlisted by the user via `torch.serialization.add_safe_globals`. We recommend you start setting `weights_only=True` for any use case where you don't have full control of the loaded file. Please open an issue on GitHub for any issues related to this experimental feature.\n",
      "  model.load_state_dict(torch.load(checkpoint_path))\n",
      "Iterating eval graphs: 100%|██████████| 71/71 [00:10<00:00,  7.00batch/s]"
     ]
    },
    {
     "name": "stdout",
     "output_type": "stream",
     "text": [
      "Predictions saved to /kaggle/working/purple-hippo-project/submission/testset_D.csv\n"
     ]
    },
    {
     "name": "stderr",
     "output_type": "stream",
     "text": [
      "\n"
     ]
    }
   ],
   "source": [
    "model.load_state_dict(torch.load(checkpoint_path))\n",
    "predictions = evaluate(test_loader, model, device, calculate_accuracy=False)\n",
    "save_predictions(predictions, args.test_path)"
   ]
  },
  {
   "cell_type": "code",
   "execution_count": null,
   "id": "983bb0fb",
   "metadata": {
    "papermill": {
     "duration": 2.004265,
     "end_time": "2025-05-30T13:58:48.175180",
     "exception": false,
     "start_time": "2025-05-30T13:58:46.170915",
     "status": "completed"
    },
    "tags": []
   },
   "outputs": [],
   "source": []
  }
 ],
 "metadata": {
  "accelerator": "GPU",
  "colab": {
   "gpuType": "T4",
   "provenance": []
  },
  "kaggle": {
   "accelerator": "gpu",
   "dataSources": [],
   "dockerImageVersionId": 30919,
   "isGpuEnabled": true,
   "isInternetEnabled": true,
   "language": "python",
   "sourceType": "notebook"
  },
  "kernelspec": {
   "display_name": "Python 3",
   "language": "python",
   "name": "python3"
  },
  "language_info": {
   "codemirror_mode": {
    "name": "ipython",
    "version": 3
   },
   "file_extension": ".py",
   "mimetype": "text/x-python",
   "name": "python",
   "nbconvert_exporter": "python",
   "pygments_lexer": "ipython3",
   "version": "3.10.12"
  },
  "papermill": {
   "default_parameters": {},
   "duration": 7908.415294,
   "end_time": "2025-05-30T13:58:55.852349",
   "environment_variables": {},
   "exception": null,
   "input_path": "__notebook__.ipynb",
   "output_path": "__notebook__.ipynb",
   "parameters": {},
   "start_time": "2025-05-30T11:47:07.437055",
   "version": "2.6.0"
  }
 },
 "nbformat": 4,
 "nbformat_minor": 5
}
